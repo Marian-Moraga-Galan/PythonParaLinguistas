{
 "cells": [
  {
   "cell_type": "code",
   "execution_count": 1,
   "id": "6c987663",
   "metadata": {},
   "outputs": [
    {
     "name": "stdout",
     "output_type": "stream",
     "text": [
      "Guía del autoestopista galáctico\n",
      "<class 'dict'>\n"
     ]
    }
   ],
   "source": [
    "diccionario = {\"Autor\": \"Douglas Adams\", \"Novela\": \"Guía del autoestopista galáctico\", \"Año\": 1979}\n",
    "\n",
    "print(diccionario[\"Novela\"])\n",
    "print(type(diccionario))"
   ]
  },
  {
   "cell_type": "code",
   "execution_count": 2,
   "id": "3f8caba0",
   "metadata": {},
   "outputs": [
    {
     "name": "stdout",
     "output_type": "stream",
     "text": [
      "{'Autor': 'Douglas Adams', 'Novela': 'Guía del autoestopista galáctico', 'Año': 1979}\n",
      "<class 'dict'>\n"
     ]
    }
   ],
   "source": [
    "diccionariobis = dict(Autor = \"Douglas Adams\", Novela = \"Guía del autoestopista galáctico\", Año = 1979)\n",
    "\n",
    "print(diccionariobis)\n",
    "print(type(diccionariobis))"
   ]
  },
  {
   "cell_type": "code",
   "execution_count": 1,
   "id": "e336dd5a",
   "metadata": {},
   "outputs": [
    {
     "data": {
      "text/plain": [
       "{'Autor': 'Douglas Adams',\n",
       " 'Novela': 'Guía del autoestopista galáctico',\n",
       " 'Año': 1979}"
      ]
     },
     "execution_count": 1,
     "metadata": {},
     "output_type": "execute_result"
    }
   ],
   "source": [
    "dicc = dict()\n",
    "\n",
    "dicc[\"Autor\"] = \"Douglas Adams\"\n",
    "dicc[\"Novela\"] = \"Guía del autoestopista galáctico\"\n",
    "dicc[\"Año\"] = 1979\n",
    "\n",
    "dicc"
   ]
  },
  {
   "cell_type": "code",
   "execution_count": 3,
   "id": "a6a87c4d",
   "metadata": {},
   "outputs": [
    {
     "data": {
      "text/plain": [
       "1980"
      ]
     },
     "execution_count": 3,
     "metadata": {},
     "output_type": "execute_result"
    }
   ],
   "source": [
    "diccionario2 = {\n",
    "    \"Autor\": \"Douglas Adams\",\n",
    "    \"Novela\": \"Guía del autoestopista galáctico\",\n",
    "    \"Año\": 1979,\n",
    "    \"Secuela\": \"El restaurante del fin del mundo\",\n",
    "    \"Año\": 1980\n",
    "}\n",
    "\n",
    "diccionario2[\"Año\"]"
   ]
  },
  {
   "cell_type": "code",
   "execution_count": 4,
   "id": "953f828b",
   "metadata": {},
   "outputs": [
    {
     "data": {
      "text/plain": [
       "'El restaurante del fin del mundo'"
      ]
     },
     "execution_count": 4,
     "metadata": {},
     "output_type": "execute_result"
    }
   ],
   "source": [
    "libro = diccionario2.get(\"Secuela\")\n",
    "\n",
    "libro"
   ]
  },
  {
   "cell_type": "code",
   "execution_count": 5,
   "id": "087ee812",
   "metadata": {},
   "outputs": [
    {
     "data": {
      "text/plain": [
       "4"
      ]
     },
     "execution_count": 5,
     "metadata": {},
     "output_type": "execute_result"
    }
   ],
   "source": [
    "len(diccionario2)"
   ]
  },
  {
   "cell_type": "code",
   "execution_count": 6,
   "id": "311f396d",
   "metadata": {},
   "outputs": [
    {
     "data": {
      "text/plain": [
       "dict_keys(['Autor', 'Novela', 'Año', 'Secuela'])"
      ]
     },
     "execution_count": 6,
     "metadata": {},
     "output_type": "execute_result"
    }
   ],
   "source": [
    "diccionario2.keys()"
   ]
  },
  {
   "cell_type": "code",
   "execution_count": 7,
   "id": "f4910bb8",
   "metadata": {},
   "outputs": [
    {
     "data": {
      "text/plain": [
       "dict_values(['Douglas Adams', 'Guía del autoestopista galáctico', 1980, 'El restaurante del fin del mundo'])"
      ]
     },
     "execution_count": 7,
     "metadata": {},
     "output_type": "execute_result"
    }
   ],
   "source": [
    "diccionario2.values()"
   ]
  },
  {
   "cell_type": "code",
   "execution_count": 8,
   "id": "4b8d89be",
   "metadata": {},
   "outputs": [
    {
     "data": {
      "text/plain": [
       "dict_items([('Autor', 'Douglas Adams'), ('Novela', 'Guía del autoestopista galáctico'), ('Año', 1980), ('Secuela', 'El restaurante del fin del mundo')])"
      ]
     },
     "execution_count": 8,
     "metadata": {},
     "output_type": "execute_result"
    }
   ],
   "source": [
    "diccionario2.items()"
   ]
  },
  {
   "cell_type": "code",
   "execution_count": 9,
   "id": "5a4edf8c",
   "metadata": {},
   "outputs": [
    {
     "name": "stdout",
     "output_type": "stream",
     "text": [
      "True\n"
     ]
    }
   ],
   "source": [
    "print(\"Autor\" in diccionario2)"
   ]
  },
  {
   "cell_type": "code",
   "execution_count": 10,
   "id": "3363135b",
   "metadata": {},
   "outputs": [
    {
     "name": "stdout",
     "output_type": "stream",
     "text": [
      "{'nombre': 'Fulanito', 'edad': 27, 'ocupación': 'lingüista computacional', 'nacionalidad': 'argentino'}\n"
     ]
    }
   ],
   "source": [
    "diccionario3 = {\n",
    "    \"nombre\": \"Fulanito\",\n",
    "    \"edad\": 27,\n",
    "    \"ocupación\": \"profesor\"\n",
    "}\n",
    "\n",
    "diccionario3[\"ocupación\"] = \"lingüista computacional\"\n",
    "diccionario3[\"nacionalidad\"] = \"argentino\"\n",
    "\n",
    "print(diccionario3)"
   ]
  },
  {
   "cell_type": "code",
   "execution_count": 11,
   "id": "9894858d",
   "metadata": {},
   "outputs": [
    {
     "data": {
      "text/plain": [
       "{'nombre': 'Fulanito',\n",
       " 'edad': 30,\n",
       " 'ocupación': 'lingüista computacional',\n",
       " 'nacionalidad': 'argentino'}"
      ]
     },
     "execution_count": 11,
     "metadata": {},
     "output_type": "execute_result"
    }
   ],
   "source": [
    "diccionario3.update({\"edad\": 30})\n",
    "\n",
    "diccionario3"
   ]
  },
  {
   "cell_type": "code",
   "execution_count": 12,
   "id": "1712aeae",
   "metadata": {},
   "outputs": [
    {
     "data": {
      "text/plain": [
       "{'nombre': 'Fulanito',\n",
       " 'ocupación': 'lingüista computacional',\n",
       " 'nacionalidad': 'argentino'}"
      ]
     },
     "execution_count": 12,
     "metadata": {},
     "output_type": "execute_result"
    }
   ],
   "source": [
    "diccionario3.pop(\"edad\")\n",
    "\n",
    "diccionario3"
   ]
  },
  {
   "cell_type": "code",
   "execution_count": 13,
   "id": "1248e782",
   "metadata": {},
   "outputs": [
    {
     "data": {
      "text/plain": [
       "{'nombre': 'Fulanito', 'ocupación': 'lingüista computacional'}"
      ]
     },
     "execution_count": 13,
     "metadata": {},
     "output_type": "execute_result"
    }
   ],
   "source": [
    "diccionario3.popitem()\n",
    "\n",
    "diccionario3"
   ]
  },
  {
   "cell_type": "code",
   "execution_count": 14,
   "id": "320e6014",
   "metadata": {},
   "outputs": [
    {
     "data": {
      "text/plain": [
       "{'nombre': 'Fulanito'}"
      ]
     },
     "execution_count": 14,
     "metadata": {},
     "output_type": "execute_result"
    }
   ],
   "source": [
    "del diccionario3[\"ocupación\"]\n",
    "\n",
    "diccionario3"
   ]
  },
  {
   "cell_type": "code",
   "execution_count": 15,
   "id": "77c3e7bb",
   "metadata": {},
   "outputs": [
    {
     "name": "stdout",
     "output_type": "stream",
     "text": [
      "{}\n",
      "{'nombre': 'Fulanito'}\n",
      "{'nombre': 'Fulanito'}\n"
     ]
    }
   ],
   "source": [
    "diccionario3bis = diccionario3.copy()\n",
    "diccionario3bis2 = dict(diccionario3)\n",
    "diccionario3.clear()\n",
    "\n",
    "print(diccionario3)\n",
    "print(diccionario3bis)\n",
    "print(diccionario3bis2)"
   ]
  },
  {
   "cell_type": "code",
   "execution_count": 16,
   "id": "316c18e8",
   "metadata": {},
   "outputs": [
    {
     "ename": "NameError",
     "evalue": "name 'diccionario3' is not defined",
     "output_type": "error",
     "traceback": [
      "\u001b[1;31m---------------------------------------------------------------------------\u001b[0m",
      "\u001b[1;31mNameError\u001b[0m                                 Traceback (most recent call last)",
      "Cell \u001b[1;32mIn[16], line 3\u001b[0m\n\u001b[0;32m      1\u001b[0m \u001b[38;5;28;01mdel\u001b[39;00m diccionario3\n\u001b[1;32m----> 3\u001b[0m diccionario3\n",
      "\u001b[1;31mNameError\u001b[0m: name 'diccionario3' is not defined"
     ]
    }
   ],
   "source": [
    "del diccionario3\n",
    "\n",
    "diccionario3  #dará error porque el diccionario ya no existe"
   ]
  },
  {
   "cell_type": "code",
   "execution_count": 19,
   "id": "0aa65151",
   "metadata": {},
   "outputs": [
    {
     "data": {
      "text/plain": [
       "{'estudiante1': {'nombre': 'Menganita', 'facultad': 'Derecho', 'año': 2},\n",
       " 'estudiante2': {'nombre': 'Menganito', 'facultad': 'Informática', 'año': 4}}"
      ]
     },
     "execution_count": 19,
     "metadata": {},
     "output_type": "execute_result"
    }
   ],
   "source": [
    "estudiantes = {\n",
    "    \"estudiante1\": {\n",
    "        \"nombre\": \"Menganita\",\n",
    "        \"facultad\": \"Derecho\",\n",
    "        \"año\": 2\n",
    "    },\n",
    "    \"estudiante2\": {\n",
    "        \"nombre\": \"Menganito\",\n",
    "        \"facultad\": \"Informática\",\n",
    "        \"año\": 4\n",
    "    }\n",
    "}\n",
    "\n",
    "estudiantes"
   ]
  },
  {
   "cell_type": "code",
   "execution_count": 21,
   "id": "c45e7623",
   "metadata": {},
   "outputs": [
    {
     "data": {
      "text/plain": [
       "{'curso1': {'contenido': 'Lingüística computacional', 'horas': 300},\n",
       " 'curso2': {'contenido': 'Procesamiento del lenguaje natural', 'horas': 20},\n",
       " 'curso3': {'contenido': 'Introducción al diseño de interfaces conversacionales',\n",
       "  'horas': 4}}"
      ]
     },
     "execution_count": 21,
     "metadata": {},
     "output_type": "execute_result"
    }
   ],
   "source": [
    "curso1 = {\n",
    "    \"contenido\": \"Lingüística computacional\",\n",
    "    \"horas\": 300\n",
    "}\n",
    "curso2 = {\n",
    "    \"contenido\": \"Procesamiento del lenguaje natural\",\n",
    "    \"horas\": 20\n",
    "}\n",
    "curso3 = {\n",
    "    \"contenido\": \"Introducción al diseño de interfaces conversacionales\",\n",
    "    \"horas\": 4\n",
    "}\n",
    "\n",
    "formación_complementaria = {\n",
    "    \"curso1\": curso1,\n",
    "    \"curso2\": curso2,\n",
    "    \"curso3\": curso3\n",
    "}\n",
    "\n",
    "formación_complementaria"
   ]
  },
  {
   "cell_type": "code",
   "execution_count": 22,
   "id": "842303a9",
   "metadata": {},
   "outputs": [
    {
     "name": "stdout",
     "output_type": "stream",
     "text": [
      "Lingüística computacional\n"
     ]
    }
   ],
   "source": [
    "print(formación_complementaria[\"curso1\"][\"contenido\"])"
   ]
  }
 ],
 "metadata": {
  "kernelspec": {
   "display_name": "Python 3 (ipykernel)",
   "language": "python",
   "name": "python3"
  },
  "language_info": {
   "codemirror_mode": {
    "name": "ipython",
    "version": 3
   },
   "file_extension": ".py",
   "mimetype": "text/x-python",
   "name": "python",
   "nbconvert_exporter": "python",
   "pygments_lexer": "ipython3",
   "version": "3.11.5"
  }
 },
 "nbformat": 4,
 "nbformat_minor": 5
}
