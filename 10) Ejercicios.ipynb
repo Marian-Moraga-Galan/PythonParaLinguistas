{
 "cells": [
  {
   "cell_type": "markdown",
   "id": "e5c3b0aa",
   "metadata": {},
   "source": [
    "<b>a) Escribe una función que devuelva True si hay un número mayor que 10 en una lista de números y False en caso contrario.<b>\n",
    "\n",
    "Comprueba que funciona con todas las listas ofrecidas. ¿Se te ocurre una forma de conseguirlo sin usar condiciones?"
   ]
  },
  {
   "cell_type": "code",
   "execution_count": 4,
   "id": "c8f1db78",
   "metadata": {},
   "outputs": [],
   "source": [
    "lista1a = [1,2,3,4,5]\n",
    "lista2a = [1,2,3,4,20]\n",
    "lista3a = [1,2,10,4,5]\n",
    "lista4a = [100,2,3,4,5]\n",
    "\n",
    "#def"
   ]
  },
  {
   "cell_type": "markdown",
   "id": "a194771c",
   "metadata": {},
   "source": [
    "<b>b) Escribe una función que diga cuántas veces aparece el número 5 en una lista de números.<b>\n",
    "\n",
    "Comprueba que funciona con todas las listas ofrecidas. "
   ]
  },
  {
   "cell_type": "code",
   "execution_count": 5,
   "id": "8b35fd1a",
   "metadata": {},
   "outputs": [],
   "source": [
    "lista1b = [5,0,3,8,5,4]\n",
    "lista2b = [5,5,5,5,5]\n",
    "lista3b = [0,1,2,3,4]\n",
    "\n",
    "#def"
   ]
  },
  {
   "cell_type": "markdown",
   "id": "8f146849",
   "metadata": {},
   "source": [
    "<b>c) Escribe una función que devuelva True si una cadena contiene la palabra \"y\".<b>\n",
    "\n",
    "Comprueba que funciona con todas las cadenas ofrecidas."
   ]
  },
  {
   "cell_type": "code",
   "execution_count": 6,
   "id": "f9d1e3b3",
   "metadata": {},
   "outputs": [],
   "source": [
    "cadena1c = \"Hola y bienvenidos\"\n",
    "cadena2c = \"Y qué tal\"\n",
    "cadena3c = \"Muy bien\"\n",
    "\n",
    "#def"
   ]
  },
  {
   "cell_type": "markdown",
   "id": "2d06875f",
   "metadata": {},
   "source": [
    "<b>d) Escribe una función que, dadas una cadena y una lista de palabras, devuelva True si la cadena contiene alguna de las palabras de la lista y False en caso contrario.<b>\n",
    "\n",
    "Comprueba que funciona con los pares de cadena y lista ofrecidos."
   ]
  },
  {
   "cell_type": "code",
   "execution_count": 1,
   "id": "9a64e532",
   "metadata": {},
   "outputs": [],
   "source": [
    "cadena1d = \"Buenas, qué tal\"\n",
    "cadena2d = \"Hola, cómo vas\"\n",
    "lista1d = [\"buenas\", \"hola\", \"tal\"]\n",
    "lista2d = [\"adiós\", \"saludo\"]\n",
    "\n",
    "#def"
   ]
  }
 ],
 "metadata": {
  "kernelspec": {
   "display_name": "Python 3 (ipykernel)",
   "language": "python",
   "name": "python3"
  },
  "language_info": {
   "codemirror_mode": {
    "name": "ipython",
    "version": 3
   },
   "file_extension": ".py",
   "mimetype": "text/x-python",
   "name": "python",
   "nbconvert_exporter": "python",
   "pygments_lexer": "ipython3",
   "version": "3.11.7"
  }
 },
 "nbformat": 4,
 "nbformat_minor": 5
}
