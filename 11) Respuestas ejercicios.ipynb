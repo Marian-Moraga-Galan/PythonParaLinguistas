{
 "cells": [
  {
   "cell_type": "markdown",
   "id": "7803258e",
   "metadata": {},
   "source": [
    "<b>a) Escribe una función que devuelva True si hay un número mayor que 10 en una lista de números y False en caso contrario.<b>\n",
    "\n",
    "Comprueba que funciona con todas las listas ofrecidas. ¿Se te ocurre una forma de conseguirlo sin usar condiciones?"
   ]
  },
  {
   "cell_type": "code",
   "execution_count": 2,
   "id": "15c1e0af",
   "metadata": {},
   "outputs": [
    {
     "name": "stdout",
     "output_type": "stream",
     "text": [
      "False\n",
      "True\n",
      "False\n",
      "True\n"
     ]
    }
   ],
   "source": [
    "#versión 1\n",
    "\n",
    "lista1a = [1,2,3,4,5]\n",
    "lista2a = [1,2,3,4,20]\n",
    "lista3a = [1,2,10,4,5]\n",
    "lista4a = [100,2,3,4,5]\n",
    "\n",
    "def plus10(lista_num):\n",
    "    encontrado = False\n",
    "    for i in lista_num:\n",
    "        if i > 10:\n",
    "            encontrado = True\n",
    "    return encontrado\n",
    "            \n",
    "print(plus10(lista1a))\n",
    "print(plus10(lista2a))\n",
    "print(plus10(lista3a))\n",
    "print(plus10(lista4a))"
   ]
  },
  {
   "cell_type": "code",
   "execution_count": 3,
   "id": "19fb763d",
   "metadata": {},
   "outputs": [
    {
     "name": "stdout",
     "output_type": "stream",
     "text": [
      "False\n",
      "True\n",
      "False\n",
      "True\n"
     ]
    }
   ],
   "source": [
    "#versión 2\n",
    "\n",
    "def plus10v2(lista_num):\n",
    "    encontrado = False\n",
    "    for i in lista_num:\n",
    "        encontrado = encontrado or i > 10\n",
    "    return encontrado\n",
    "\n",
    "print(plus10v2(lista1a))\n",
    "print(plus10v2(lista2a))\n",
    "print(plus10v2(lista3a))\n",
    "print(plus10v2(lista4a))"
   ]
  },
  {
   "cell_type": "markdown",
   "id": "baf371c3",
   "metadata": {},
   "source": [
    "<b>b) Escribe una función que diga cuántas veces aparece el número 5 en una lista de números.<b>\n",
    "\n",
    "Comprueba que funciona con todas las listas ofrecidas. "
   ]
  },
  {
   "cell_type": "code",
   "execution_count": 19,
   "id": "b6fa26b2",
   "metadata": {},
   "outputs": [
    {
     "name": "stdout",
     "output_type": "stream",
     "text": [
      "2\n",
      "5\n",
      "0\n"
     ]
    }
   ],
   "source": [
    "lista1b = [5,0,3,8,5,4]\n",
    "lista2b = [5,5,5,5,5]\n",
    "lista3b = [0,1,2,3,4]\n",
    "\n",
    "def howmany5(lista):\n",
    "    resultado = 0\n",
    "    for i in lista:\n",
    "        if i == 5:\n",
    "            resultado += 1\n",
    "    return resultado\n",
    "\n",
    "print(howmany5(lista1b))\n",
    "print(howmany5(lista2b))\n",
    "print(howmany5(lista3b))"
   ]
  },
  {
   "cell_type": "markdown",
   "id": "6a11bcc5",
   "metadata": {},
   "source": [
    "<b>c) Escribe una función que devuelva True si una cadena contiene la palabra \"y\".<b>\n",
    "\n",
    "Comprueba que funciona con todas las cadenas ofrecidas."
   ]
  },
  {
   "cell_type": "code",
   "execution_count": 21,
   "id": "4ae7cc22",
   "metadata": {},
   "outputs": [
    {
     "name": "stdout",
     "output_type": "stream",
     "text": [
      "True\n",
      "True\n",
      "False\n"
     ]
    }
   ],
   "source": [
    "cadena1c = \"Hola y bienvenidos\"\n",
    "cadena2c = \"Y qué tal\"\n",
    "cadena3c = \"Muy bien\"\n",
    "\n",
    "def contains_y(cadena):\n",
    "    cadena=cadena.lower()\n",
    "    cadena=cadena.split()\n",
    "    contenida = \"y\" in cadena\n",
    "    return contenida\n",
    "\n",
    "print(contains_y(cadena1c))\n",
    "print(contains_y(cadena2c))\n",
    "print(contains_y(cadena3c))"
   ]
  },
  {
   "cell_type": "markdown",
   "id": "d5af70d3",
   "metadata": {},
   "source": [
    "<b>d) Escribe una función que, dadas una cadena y una lista de palabras, devuelva True si la cadena contiene alguna de las palabras de la lista y False en caso contrario.<b>\n",
    "\n",
    "Comprueba que funciona con los pares de cadena y lista ofrecidos."
   ]
  },
  {
   "cell_type": "code",
   "execution_count": 17,
   "id": "6cf55eac",
   "metadata": {},
   "outputs": [
    {
     "name": "stdout",
     "output_type": "stream",
     "text": [
      "(['buenas', 'tal'], True)\n",
      "([], False)\n"
     ]
    }
   ],
   "source": [
    "cadena1d = \"Buenas, qué tal\"\n",
    "cadena2d = \"Hola, cómo vas\"\n",
    "lista1d = [\"buenas\", \"hola\", \"tal\"]\n",
    "lista2d = [\"adiós\", \"saludo\"]\n",
    "\n",
    "def cadenalista (cadena, lista):\n",
    "    cadena = cadena.lower()\n",
    "    encontradas = []\n",
    "    for palabra in lista:\n",
    "        if palabra in cadena:\n",
    "            encontradas.append(palabra)\n",
    "    return encontradas, bool(encontradas)\n",
    "            \n",
    "    \n",
    "print(cadenalista(cadena1d, lista1d))\n",
    "print(cadenalista(cadena2d, lista2d))"
   ]
  }
 ],
 "metadata": {
  "kernelspec": {
   "display_name": "Python 3 (ipykernel)",
   "language": "python",
   "name": "python3"
  },
  "language_info": {
   "codemirror_mode": {
    "name": "ipython",
    "version": 3
   },
   "file_extension": ".py",
   "mimetype": "text/x-python",
   "name": "python",
   "nbconvert_exporter": "python",
   "pygments_lexer": "ipython3",
   "version": "3.10.0"
  }
 },
 "nbformat": 4,
 "nbformat_minor": 5
}
