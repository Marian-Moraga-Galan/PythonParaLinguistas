{
 "cells": [
  {
   "cell_type": "code",
   "execution_count": 1,
   "id": "32cd2515",
   "metadata": {},
   "outputs": [
    {
     "name": "stdout",
     "output_type": "stream",
     "text": [
      "<class 'list'> <class 'list'> <class 'list'> <class 'list'> <class 'list'>\n"
     ]
    }
   ],
   "source": [
    "lista = [1,2,3,4]  \t  \t#colección ordenada y mutable (podemos modificar valores)\n",
    "Lista = [1, 2, 3, 4]\n",
    "LISTA = [\"uno\", \"dos\", \"tres\", \"cuatro\"]\n",
    "mi_lista = [True, False, True]\n",
    "OtraLista = [1, \"dos\", True, 1, \"dos\"]  \t  \t#se pueden duplicar valores\n",
    "\n",
    "print(type(lista),type(Lista),type(LISTA),\n",
    "      type(mi_lista),type(OtraLista))"
   ]
  },
  {
   "cell_type": "code",
   "execution_count": 2,
   "id": "63795318",
   "metadata": {},
   "outputs": [
    {
     "name": "stdout",
     "output_type": "stream",
     "text": [
      "<class 'tuple'> <class 'tuple'> <class 'tuple'> <class 'tuple'> <class 'tuple'>\n"
     ]
    }
   ],
   "source": [
    "tupla = (1,2,3,4)\t\t#colección ordenada e inmutable (no podemos modificar valores)\n",
    "Tupla = (1, 2, 3, 4)\n",
    "TUPLA = (\"uno\", \"dos\", \"tres\", \"cuatro\")\n",
    "mi_tupla = (True, False, True)\n",
    "OtraTupla = (1, \"dos\", True, 1, \"dos\")  \t  \t#se pueden duplicar valores\n",
    "\n",
    "print(type(tupla), type(Tupla), type(TUPLA),\n",
    "      type(mi_tupla), type(OtraTupla))"
   ]
  },
  {
   "cell_type": "code",
   "execution_count": 3,
   "id": "82f5a7ba",
   "metadata": {},
   "outputs": [
    {
     "name": "stdout",
     "output_type": "stream",
     "text": [
      "[5, 6, 7, 8]\n",
      "(5, 6, 7, 8)\n"
     ]
    }
   ],
   "source": [
    "milista = [5,6,7,8]\n",
    "mitupla = (5,6,7,8)\n",
    "\n",
    "print(list(mitupla))\n",
    "print(tuple(milista))"
   ]
  },
  {
   "cell_type": "code",
   "execution_count": 4,
   "id": "f0f8fa05",
   "metadata": {},
   "outputs": [
    {
     "name": "stdout",
     "output_type": "stream",
     "text": [
      "['plátano', 'manzana', 'uva']\n",
      "<class 'list'>\n"
     ]
    }
   ],
   "source": [
    "Lfrutas = list((\"plátano\", \"manzana\", \"uva\"))\n",
    "\n",
    "print(Lfrutas)\n",
    "print(type(Lfrutas))"
   ]
  },
  {
   "cell_type": "code",
   "execution_count": 5,
   "id": "817b9211",
   "metadata": {},
   "outputs": [
    {
     "name": "stdout",
     "output_type": "stream",
     "text": [
      "<class 'tuple'>\n",
      "<class 'str'>\n"
     ]
    }
   ],
   "source": [
    "Tfrutas = (\"piña\",)\n",
    "print(type(Tfrutas))\n",
    "\n",
    "Tfrutas = (\"piña\")\n",
    "print(type(Tfrutas))"
   ]
  },
  {
   "cell_type": "code",
   "execution_count": 6,
   "id": "17d0b514",
   "metadata": {},
   "outputs": [
    {
     "data": {
      "text/plain": [
       "'plátano & manzana & uva'"
      ]
     },
     "execution_count": 6,
     "metadata": {},
     "output_type": "execute_result"
    }
   ],
   "source": [
    "\" & \".join(Lfrutas)"
   ]
  },
  {
   "cell_type": "code",
   "execution_count": 7,
   "id": "ef816552",
   "metadata": {},
   "outputs": [
    {
     "data": {
      "text/plain": [
       "['plátano',\n",
       " 'manzana',\n",
       " 'uva',\n",
       " 'plátano',\n",
       " 'manzana',\n",
       " 'uva',\n",
       " 'plátano',\n",
       " 'manzana',\n",
       " 'uva',\n",
       " 'plátano',\n",
       " 'manzana',\n",
       " 'uva']"
      ]
     },
     "execution_count": 7,
     "metadata": {},
     "output_type": "execute_result"
    }
   ],
   "source": [
    "Lfrutas * 4"
   ]
  },
  {
   "cell_type": "code",
   "execution_count": 8,
   "id": "5fd1449a",
   "metadata": {},
   "outputs": [
    {
     "name": "stdout",
     "output_type": "stream",
     "text": [
      "Bilbao\n",
      "Madrid\n"
     ]
    }
   ],
   "source": [
    "Lciudades = [\"Madrid\", \"Bilbao\", \"Granada\"]\n",
    "Tciudades = (\"Madrid\", \"Bilbao\", \"Granada\")\n",
    "\n",
    "print(min(Lciudades))\n",
    "print(max(Tciudades))"
   ]
  },
  {
   "cell_type": "code",
   "execution_count": 9,
   "id": "4ed42706",
   "metadata": {},
   "outputs": [
    {
     "name": "stdout",
     "output_type": "stream",
     "text": [
      "Madrid\n",
      "Bilbao\n"
     ]
    }
   ],
   "source": [
    "print(Lciudades[0])\n",
    "print(Tciudades[1])"
   ]
  },
  {
   "cell_type": "code",
   "execution_count": 10,
   "id": "afa4759c",
   "metadata": {},
   "outputs": [
    {
     "name": "stdout",
     "output_type": "stream",
     "text": [
      "['Valencia', 'Bilbao', 'Granada']\n"
     ]
    }
   ],
   "source": [
    "Lciudades[0] = \"Valencia\"\n",
    "\n",
    "print(Lciudades)"
   ]
  },
  {
   "cell_type": "code",
   "execution_count": 11,
   "id": "6a76e80f",
   "metadata": {},
   "outputs": [
    {
     "name": "stdout",
     "output_type": "stream",
     "text": [
      "['Bruselas', 'Viena', 'Milán']\n",
      "['Bruselas', 'Viena', 'Milán']\n"
     ]
    }
   ],
   "source": [
    "Lciudades2 = [\"Bruselas\", \"Londres\", \"Milán\"]\n",
    "Lciudades = Lciudades2\n",
    "Lciudades2[1] = \"Viena\"\n",
    "\n",
    "print(Lciudades2)\n",
    "print(Lciudades)"
   ]
  },
  {
   "cell_type": "code",
   "execution_count": 12,
   "id": "4fe5effc",
   "metadata": {},
   "outputs": [
    {
     "name": "stdout",
     "output_type": "stream",
     "text": [
      "Cuatro\n",
      "Tres\n"
     ]
    }
   ],
   "source": [
    "Lnúmeros = [\"Uno\", \"Dos\", \"Tres\", \"Cuatro\"]\n",
    "Tnúmeros = (\"Uno\", \"Dos\", \"Tres\", \"Cuatro\")\n",
    "\n",
    "print(Lnúmeros[-1])\n",
    "print(Tnúmeros[-2])"
   ]
  },
  {
   "cell_type": "code",
   "execution_count": 13,
   "id": "426d369e",
   "metadata": {},
   "outputs": [
    {
     "data": {
      "text/plain": [
       "0"
      ]
     },
     "execution_count": 13,
     "metadata": {},
     "output_type": "execute_result"
    }
   ],
   "source": [
    "Lanimales = [\"caballo\", \"pato\", \"oveja\", \"cabra\", \"cerdo\", \"vaca\"]\n",
    "Tanimales = (\"caballo\", \"pato\", \"oveja\", \"cabra\", \"cerdo\", \"vaca\")\n",
    "\n",
    "Lanimales.index(\"caballo\")"
   ]
  },
  {
   "cell_type": "code",
   "execution_count": 14,
   "id": "01a3ae5d",
   "metadata": {},
   "outputs": [
    {
     "data": {
      "text/plain": [
       "2"
      ]
     },
     "execution_count": 14,
     "metadata": {},
     "output_type": "execute_result"
    }
   ],
   "source": [
    "Tanimales.index(\"oveja\")"
   ]
  },
  {
   "cell_type": "code",
   "execution_count": 15,
   "id": "18954ae6",
   "metadata": {},
   "outputs": [
    {
     "name": "stdout",
     "output_type": "stream",
     "text": [
      "['pato', 'oveja', 'cabra']\n",
      "('caballo', 'pato', 'oveja')\n"
     ]
    }
   ],
   "source": [
    "print(Lanimales[1:4])\n",
    "print(Tanimales[0:3])"
   ]
  },
  {
   "cell_type": "code",
   "execution_count": 16,
   "id": "6912c8c9",
   "metadata": {},
   "outputs": [
    {
     "name": "stdout",
     "output_type": "stream",
     "text": [
      "['caballo', 'pato', 'oveja']\n",
      "('caballo', 'pato')\n"
     ]
    }
   ],
   "source": [
    "print(Lanimales[:3])\n",
    "print(Tanimales[:2])"
   ]
  },
  {
   "cell_type": "code",
   "execution_count": 17,
   "id": "adc23c2a",
   "metadata": {},
   "outputs": [
    {
     "name": "stdout",
     "output_type": "stream",
     "text": [
      "['oveja', 'cabra', 'cerdo', 'vaca']\n",
      "('cabra', 'cerdo', 'vaca')\n"
     ]
    }
   ],
   "source": [
    "print(Lanimales[2:])\n",
    "print(Tanimales[3:])"
   ]
  },
  {
   "cell_type": "code",
   "execution_count": 18,
   "id": "866ce889",
   "metadata": {},
   "outputs": [
    {
     "name": "stdout",
     "output_type": "stream",
     "text": [
      "['cabra', 'cerdo']\n",
      "('pato', 'oveja', 'cabra')\n"
     ]
    }
   ],
   "source": [
    "print(Lanimales[-3:-1])\n",
    "print(Tanimales[-5:-2])"
   ]
  },
  {
   "cell_type": "code",
   "execution_count": 19,
   "id": "26693b28",
   "metadata": {},
   "outputs": [
    {
     "name": "stdout",
     "output_type": "stream",
     "text": [
      "caballo vaca\n",
      "caballo vaca\n"
     ]
    }
   ],
   "source": [
    "print(min(Lanimales), max(Lanimales))\n",
    "print(min(Tanimales), max(Tanimales))"
   ]
  },
  {
   "cell_type": "code",
   "execution_count": 20,
   "id": "790b3324",
   "metadata": {},
   "outputs": [
    {
     "name": "stdout",
     "output_type": "stream",
     "text": [
      "True\n",
      "False\n"
     ]
    }
   ],
   "source": [
    "print(\"cabra\" in Lanimales)\n",
    "print(\"perro\" in Tanimales)"
   ]
  },
  {
   "cell_type": "code",
   "execution_count": 21,
   "id": "74b21381",
   "metadata": {},
   "outputs": [
    {
     "name": "stdout",
     "output_type": "stream",
     "text": [
      "['perro', 'pato', 'oveja', 'cabra', 'cerdo', 'vaca']\n",
      "True\n"
     ]
    }
   ],
   "source": [
    "Lanimales[0] = \"perro\"\n",
    "\n",
    "print(Lanimales)\n",
    "print(\"perro\" in Lanimales)"
   ]
  },
  {
   "cell_type": "code",
   "execution_count": 22,
   "id": "9e8d3ef6",
   "metadata": {},
   "outputs": [
    {
     "name": "stdout",
     "output_type": "stream",
     "text": [
      "['perro', 'gallina', 'cabra', 'cerdo', 'vaca']\n"
     ]
    }
   ],
   "source": [
    "Lanimales[1:3] = [\"gallina\"]\n",
    "\n",
    "print(Lanimales)"
   ]
  },
  {
   "cell_type": "code",
   "execution_count": 23,
   "id": "b86dcdc6",
   "metadata": {},
   "outputs": [
    {
     "name": "stdout",
     "output_type": "stream",
     "text": [
      "['perro', 'gallina', 'cabra', 'asno', 'cerdo', 'vaca']\n"
     ]
    }
   ],
   "source": [
    "Lanimales.insert(3, \"asno\")\n",
    "\n",
    "print(Lanimales)"
   ]
  },
  {
   "cell_type": "code",
   "execution_count": 24,
   "id": "bf03bf19",
   "metadata": {},
   "outputs": [
    {
     "name": "stdout",
     "output_type": "stream",
     "text": [
      "('perro', 'gallina', 'cabra', 'asno', 'cerdo', 'vaca')\n",
      "True\n"
     ]
    }
   ],
   "source": [
    "Tanimales = list(Tanimales)\n",
    "Tanimales[0] = \"perro\"\n",
    "Tanimales[1:3] = [\"gallina\"]\n",
    "Tanimales.insert(3, \"asno\")\n",
    "Tanimales = tuple(Tanimales)\n",
    "\n",
    "print(Tanimales)\n",
    "print(\"perro\" in Tanimales)"
   ]
  },
  {
   "cell_type": "code",
   "execution_count": 25,
   "id": "ef823f90",
   "metadata": {},
   "outputs": [
    {
     "name": "stdout",
     "output_type": "stream",
     "text": [
      "['perro', 'gallina', 'cabra', 'asno', 'cerdo', 'vaca', 'gato']\n",
      "('perro', 'gallina', 'cabra', 'asno', 'cerdo', 'vaca', 'gato')\n"
     ]
    }
   ],
   "source": [
    "Lanimales.append(\"gato\")\n",
    "print(Lanimales)\n",
    "\n",
    "animal = (\"gato\",)\n",
    "Tanimales += animal  \t  \t#igual que: Tanimales = Tanimales + animal\n",
    "print(Tanimales)"
   ]
  },
  {
   "cell_type": "code",
   "execution_count": 26,
   "id": "9c4a04b1",
   "metadata": {},
   "outputs": [
    {
     "name": "stdout",
     "output_type": "stream",
     "text": [
      "['perro', 'gallina', 'cabra', 'asno', 'cerdo', 'vaca', 'gato', 'canario', 'oveja']\n"
     ]
    }
   ],
   "source": [
    "animales = [\"canario\", \"oveja\"]\n",
    "Lanimales = Lanimales + animales \n",
    "print(Lanimales)"
   ]
  },
  {
   "cell_type": "code",
   "execution_count": 27,
   "id": "c57e451c",
   "metadata": {},
   "outputs": [
    {
     "name": "stdout",
     "output_type": "stream",
     "text": [
      "['perro', 'gallina', 'cabra', 'asno', 'cerdo', 'vaca', 'gato', 'canario', 'oveja', 'hámster', 'tortuga']\n",
      "('perro', 'gallina', 'cabra', 'asno', 'cerdo', 'vaca', 'gato', 'hámster', 'tortuga')\n"
     ]
    }
   ],
   "source": [
    "animales2 = [\"hámster\", \"tortuga\"]\n",
    "Lanimales.extend(animales2)\n",
    "print(Lanimales)\n",
    "\n",
    "animales2 = tuple(animales2)\n",
    "Tanimales += animales2\n",
    "print(Tanimales)"
   ]
  },
  {
   "cell_type": "code",
   "execution_count": 28,
   "id": "dd148097",
   "metadata": {},
   "outputs": [
    {
     "name": "stdout",
     "output_type": "stream",
     "text": [
      "['perro', 'gallina', 'cabra', 'asno', 'cerdo', 'vaca', 'gato', 'canario', 'oveja', 'hámster', 'tortuga', 'perro', 'gallina', 'cabra', 'asno', 'cerdo', 'vaca', 'gato', 'hámster', 'tortuga']\n"
     ]
    }
   ],
   "source": [
    "Lanimales.extend(Tanimales)\n",
    "\n",
    "print(Lanimales)"
   ]
  },
  {
   "cell_type": "code",
   "execution_count": 29,
   "id": "98f1549a",
   "metadata": {},
   "outputs": [
    {
     "data": {
      "text/plain": [
       "2"
      ]
     },
     "execution_count": 29,
     "metadata": {},
     "output_type": "execute_result"
    }
   ],
   "source": [
    "Lanimales.count(\"perro\")"
   ]
  },
  {
   "cell_type": "code",
   "execution_count": 30,
   "id": "8ed3a1d0",
   "metadata": {},
   "outputs": [
    {
     "data": {
      "text/plain": [
       "1"
      ]
     },
     "execution_count": 30,
     "metadata": {},
     "output_type": "execute_result"
    }
   ],
   "source": [
    "Tanimales.count(\"perro\")"
   ]
  },
  {
   "cell_type": "code",
   "execution_count": 31,
   "id": "68a7b8ec",
   "metadata": {},
   "outputs": [
    {
     "name": "stdout",
     "output_type": "stream",
     "text": [
      "20\n",
      "9\n"
     ]
    }
   ],
   "source": [
    "print(len(Lanimales))\n",
    "print(len(Tanimales))"
   ]
  },
  {
   "cell_type": "code",
   "execution_count": 32,
   "id": "63afd937",
   "metadata": {},
   "outputs": [
    {
     "name": "stdout",
     "output_type": "stream",
     "text": [
      "['perro', 'gallina', 'cabra', 'asno', 'cerdo', 'vaca', 'gato', 'canario', 'oveja', 'hámster', 'tortuga', 'perro', 'gallina', 'cabra', 'asno', 'cerdo', 'vaca', 'gato', 'hámster', 'tortuga']\n",
      "['asno', 'asno', 'cabra', 'cabra', 'canario', 'cerdo', 'cerdo', 'gallina', 'gallina', 'gato', 'gato', 'hámster', 'hámster', 'oveja', 'perro', 'perro', 'tortuga', 'tortuga', 'vaca', 'vaca']\n"
     ]
    }
   ],
   "source": [
    "print(Lanimales)\n",
    "\n",
    "Lanimales.sort()\n",
    "\n",
    "print(Lanimales)"
   ]
  },
  {
   "cell_type": "code",
   "execution_count": 33,
   "id": "d3e196cf",
   "metadata": {},
   "outputs": [
    {
     "name": "stdout",
     "output_type": "stream",
     "text": [
      "['vaca', 'vaca', 'tortuga', 'tortuga', 'perro', 'perro', 'oveja', 'hámster', 'hámster', 'gato', 'gato', 'gallina', 'gallina', 'cerdo', 'cerdo', 'canario', 'cabra', 'cabra', 'asno', 'asno']\n"
     ]
    }
   ],
   "source": [
    "Lanimales.sort(reverse = True)\n",
    "\n",
    "print(Lanimales)"
   ]
  },
  {
   "cell_type": "code",
   "execution_count": 34,
   "id": "d4cdb831-47ec-416e-9432-893de60b8ddf",
   "metadata": {},
   "outputs": [
    {
     "name": "stdout",
     "output_type": "stream",
     "text": [
      "['A', 'B', 'C', 'a', 'b', 'c']\n"
     ]
    }
   ],
   "source": [
    "lista_desordenada = [\"A\", \"c\", \"b\", \"C\", \"a\", \"B\"]   #cuidado con las mayúsculas\n",
    "lista_ordenada = lista_desordenada.copy()\n",
    "lista_ordenada.sort()\n",
    "\n",
    "print(lista_ordenada) "
   ]
  },
  {
   "cell_type": "code",
   "execution_count": 35,
   "id": "12d3ab3c",
   "metadata": {},
   "outputs": [
    {
     "name": "stdout",
     "output_type": "stream",
     "text": [
      "['harina', 'azúcar', 'huevos', 'leche', 'canela', 'vainilla']\n"
     ]
    }
   ],
   "source": [
    "lista_compra = [\"harina\", \"leche\", \"azúcar\", \"huevos\", \"leche\", \"canela\", \"vainilla\"]\n",
    "lista_compra.remove(\"leche\")\n",
    "\n",
    "print(lista_compra)"
   ]
  },
  {
   "cell_type": "code",
   "execution_count": 36,
   "id": "98600225",
   "metadata": {},
   "outputs": [
    {
     "data": {
      "text/plain": [
       "'vainilla'"
      ]
     },
     "execution_count": 36,
     "metadata": {},
     "output_type": "execute_result"
    }
   ],
   "source": [
    "lista_compra.pop()"
   ]
  },
  {
   "cell_type": "code",
   "execution_count": 37,
   "id": "331e396c",
   "metadata": {},
   "outputs": [
    {
     "name": "stdout",
     "output_type": "stream",
     "text": [
      "['harina', 'azúcar', 'huevos', 'leche', 'canela']\n"
     ]
    }
   ],
   "source": [
    "print(lista_compra)"
   ]
  },
  {
   "cell_type": "code",
   "execution_count": 38,
   "id": "33f51ee2",
   "metadata": {},
   "outputs": [
    {
     "data": {
      "text/plain": [
       "'harina'"
      ]
     },
     "execution_count": 38,
     "metadata": {},
     "output_type": "execute_result"
    }
   ],
   "source": [
    "lista_compra.pop(0)"
   ]
  },
  {
   "cell_type": "code",
   "execution_count": 39,
   "id": "f38f1d0c",
   "metadata": {},
   "outputs": [
    {
     "name": "stdout",
     "output_type": "stream",
     "text": [
      "['azúcar', 'huevos', 'leche', 'canela']\n"
     ]
    }
   ],
   "source": [
    "print(lista_compra)"
   ]
  },
  {
   "cell_type": "code",
   "execution_count": 40,
   "id": "c7b5428d",
   "metadata": {},
   "outputs": [
    {
     "name": "stdout",
     "output_type": "stream",
     "text": [
      "['canela', 'leche', 'huevos', 'azúcar']\n"
     ]
    }
   ],
   "source": [
    "lista_compra.reverse()\n",
    "\n",
    "print(lista_compra)"
   ]
  },
  {
   "cell_type": "code",
   "execution_count": 41,
   "id": "14981090",
   "metadata": {},
   "outputs": [
    {
     "name": "stdout",
     "output_type": "stream",
     "text": [
      "[]\n",
      "['canela', 'leche', 'huevos', 'azúcar']\n"
     ]
    }
   ],
   "source": [
    "lista_compra2 = lista_compra.copy()\n",
    "lista_compra.clear()\n",
    "\n",
    "print(lista_compra)\n",
    "print(lista_compra2)"
   ]
  },
  {
   "cell_type": "code",
   "execution_count": 42,
   "id": "413e8578",
   "metadata": {},
   "outputs": [
    {
     "ename": "NameError",
     "evalue": "name 'lista_inutil' is not defined",
     "output_type": "error",
     "traceback": [
      "\u001b[1;31m---------------------------------------------------------------------------\u001b[0m",
      "\u001b[1;31mNameError\u001b[0m                                 Traceback (most recent call last)",
      "Cell \u001b[1;32mIn[42], line 7\u001b[0m\n\u001b[0;32m      4\u001b[0m \u001b[38;5;28;01mdel\u001b[39;00m lista_inutil\n\u001b[0;32m      5\u001b[0m \u001b[38;5;28;01mdel\u001b[39;00m tupla_inutil\n\u001b[1;32m----> 7\u001b[0m \u001b[38;5;28mprint\u001b[39m(lista_inutil, tupla_inutil)\n",
      "\u001b[1;31mNameError\u001b[0m: name 'lista_inutil' is not defined"
     ]
    }
   ],
   "source": [
    "lista_inutil = [1,2,3]\n",
    "tupla_inutil = (1,2,3)\n",
    "\n",
    "del lista_inutil\n",
    "del tupla_inutil\n",
    "\n",
    "print(lista_inutil, tupla_inutil)  \t  \t#Dará error porque estas lista y tupla ya no existen"
   ]
  },
  {
   "cell_type": "code",
   "execution_count": 43,
   "id": "a125c5e5",
   "metadata": {},
   "outputs": [
    {
     "name": "stdout",
     "output_type": "stream",
     "text": [
      "brócoli\n",
      "trigo\n",
      "lenteja\n"
     ]
    }
   ],
   "source": [
    "tupla_despensa = (\"brócoli\", \"trigo\", \"lenteja\")\n",
    "(verduras, cereales, legumbres) = tupla_despensa\n",
    "\n",
    "print(verduras)\n",
    "print(cereales)\n",
    "print(legumbres)"
   ]
  },
  {
   "cell_type": "code",
   "execution_count": 44,
   "id": "ed4a2fc2",
   "metadata": {},
   "outputs": [
    {
     "name": "stdout",
     "output_type": "stream",
     "text": [
      "brócoli\n",
      "trigo\n",
      "['lenteja', 'garbanzo']\n"
     ]
    }
   ],
   "source": [
    "tupla_despensa += (\"garbanzo\",)\n",
    "(verduras, cereales, *legumbres) = tupla_despensa\n",
    "\n",
    "print(verduras)\n",
    "print(cereales)\n",
    "print(legumbres)"
   ]
  },
  {
   "cell_type": "code",
   "execution_count": 45,
   "id": "e30f5b6d",
   "metadata": {},
   "outputs": [
    {
     "name": "stdout",
     "output_type": "stream",
     "text": [
      "Shakespeare\n",
      "['Cervantes', 'Lope de Vega']\n",
      "Dante\n",
      "Molière\n"
     ]
    }
   ],
   "source": [
    "Tautores = (\"Shakespeare\", \"Cervantes\", \"Lope de Vega\", \"Dante\", \"Molière\")\n",
    "(ingleses, *españoles, italianos, franceses) = Tautores\n",
    "\n",
    "print(ingleses)\n",
    "print(españoles)\n",
    "print(italianos)\n",
    "print(franceses)"
   ]
  },
  {
   "cell_type": "code",
   "execution_count": 46,
   "id": "ebc41127",
   "metadata": {},
   "outputs": [
    {
     "name": "stdout",
     "output_type": "stream",
     "text": [
      "[['ternera', 'pollo', 'cordero'], ['bacalao', 'salmón', 'atún']]\n"
     ]
    }
   ],
   "source": [
    "lista_mercado = [[\"ternera\", \"pollo\"], [\"bacalao\", \"salmón\"]]\n",
    "lista_mercado[0].append(\"cordero\")\n",
    "lista_mercado[1].append(\"atún\")\n",
    "\n",
    "print(lista_mercado)"
   ]
  },
  {
   "cell_type": "code",
   "execution_count": 28,
   "id": "343e1daf",
   "metadata": {},
   "outputs": [
    {
     "name": "stdout",
     "output_type": "stream",
     "text": [
      "['ternera', 'pollo', 'cordero']\n",
      "['bacalao', 'salmón', 'atún']\n"
     ]
    }
   ],
   "source": [
    "(carnicería, pescadería) = lista_mercado\n",
    "\n",
    "print(carnicería)\n",
    "print(pescadería)"
   ]
  }
 ],
 "metadata": {
  "kernelspec": {
   "display_name": "Python 3 (ipykernel)",
   "language": "python",
   "name": "python3"
  },
  "language_info": {
   "codemirror_mode": {
    "name": "ipython",
    "version": 3
   },
   "file_extension": ".py",
   "mimetype": "text/x-python",
   "name": "python",
   "nbconvert_exporter": "python",
   "pygments_lexer": "ipython3",
   "version": "3.10.0"
  }
 },
 "nbformat": 4,
 "nbformat_minor": 5
}
