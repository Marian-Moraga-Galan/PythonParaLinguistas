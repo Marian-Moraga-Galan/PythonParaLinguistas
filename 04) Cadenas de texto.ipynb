{
 "cells": [
  {
   "cell_type": "code",
   "execution_count": 210,
   "id": "2721ed2b",
   "metadata": {},
   "outputs": [
    {
     "name": "stdout",
     "output_type": "stream",
     "text": [
      "Buenos días\n"
     ]
    }
   ],
   "source": [
    "x = \"Buenos\"\n",
    "y =  \"días\"\n",
    "\n",
    "print(x, y)"
   ]
  },
  {
   "cell_type": "code",
   "execution_count": 211,
   "id": "15748cae",
   "metadata": {},
   "outputs": [
    {
     "name": "stdout",
     "output_type": "stream",
     "text": [
      "Python es un lenguaje de programación\n"
     ]
    }
   ],
   "source": [
    "nombre = \"Python\"\n",
    "\n",
    "print(f\"{nombre} es un lenguaje de programación\")"
   ]
  },
  {
   "cell_type": "code",
   "execution_count": 212,
   "id": "e7d2c730",
   "metadata": {},
   "outputs": [
    {
     "name": "stdout",
     "output_type": "stream",
     "text": [
      "Guido van Rossum, su principal autor, publicó el código por primera vez en 1991\n"
     ]
    }
   ],
   "source": [
    "año = 1991\n",
    "\n",
    "print(f\"Guido van Rossum, su principal autor, publicó el código por primera vez en {año}\")"
   ]
  },
  {
   "cell_type": "code",
   "execution_count": 213,
   "id": "3fae6eb3",
   "metadata": {},
   "outputs": [
    {
     "data": {
      "text/plain": [
       "'limpiaparabrisas'"
      ]
     },
     "execution_count": 213,
     "metadata": {},
     "output_type": "execute_result"
    }
   ],
   "source": [
    "\"limpia\" + \"para\" + \"brisas\"\t\t#*\"limpia\" + 4"
   ]
  },
  {
   "cell_type": "code",
   "execution_count": 214,
   "id": "b64543e5",
   "metadata": {},
   "outputs": [
    {
     "name": "stdout",
     "output_type": "stream",
     "text": [
      "Buenas tardes\n"
     ]
    }
   ],
   "source": [
    "a = \"Buenas \"\n",
    "b =  \"tardes\"\n",
    "\n",
    "print(a + b)"
   ]
  },
  {
   "cell_type": "code",
   "execution_count": 215,
   "id": "fbd2bbe2",
   "metadata": {},
   "outputs": [
    {
     "data": {
      "text/plain": [
       "'BuenasBuenasBuenasBuenas'"
      ]
     },
     "execution_count": 215,
     "metadata": {},
     "output_type": "execute_result"
    }
   ],
   "source": [
    "\"Buenas\" * 4"
   ]
  },
  {
   "cell_type": "code",
   "execution_count": 216,
   "id": "ee8ad3f0",
   "metadata": {},
   "outputs": [
    {
     "name": "stdout",
     "output_type": "stream",
     "text": [
      "BuenasBuenas\n"
     ]
    }
   ],
   "source": [
    "saludo = \"Buenas\"\n",
    "saludo= saludo * 2\n",
    "\n",
    "print(saludo)"
   ]
  },
  {
   "cell_type": "code",
   "execution_count": 217,
   "id": "74a8920b",
   "metadata": {},
   "outputs": [
    {
     "name": "stdout",
     "output_type": "stream",
     "text": [
      "9\n"
     ]
    }
   ],
   "source": [
    "cadena = \"Salamanca\"\n",
    "\n",
    "print(len(cadena))"
   ]
  },
  {
   "cell_type": "code",
   "execution_count": 218,
   "id": "c1144099",
   "metadata": {},
   "outputs": [
    {
     "name": "stdout",
     "output_type": "stream",
     "text": [
      "S a c\n"
     ]
    }
   ],
   "source": [
    "print(cadena[0], cadena[3], cadena[-2])"
   ]
  },
  {
   "cell_type": "code",
   "execution_count": 219,
   "id": "8892eb51",
   "metadata": {},
   "outputs": [
    {
     "name": "stdout",
     "output_type": "stream",
     "text": [
      "False\n",
      "True\n"
     ]
    }
   ],
   "source": [
    "print(\"s\" in cadena)\n",
    "print(\"S\" in cadena)"
   ]
  },
  {
   "cell_type": "code",
   "execution_count": 220,
   "id": "7456d11e",
   "metadata": {},
   "outputs": [
    {
     "data": {
      "text/plain": [
       "True"
      ]
     },
     "execution_count": 220,
     "metadata": {},
     "output_type": "execute_result"
    }
   ],
   "source": [
    "cadena.__contains__(\"man\")"
   ]
  },
  {
   "cell_type": "code",
   "execution_count": 221,
   "id": "47ca0d05",
   "metadata": {},
   "outputs": [
    {
     "data": {
      "text/plain": [
       "6"
      ]
     },
     "execution_count": 221,
     "metadata": {},
     "output_type": "execute_result"
    }
   ],
   "source": [
    "cadena2 = \"Era más de medianoche, antiguas historias cuentan\"\n",
    "\n",
    "cadena2.count(\" \")"
   ]
  },
  {
   "cell_type": "code",
   "execution_count": 222,
   "id": "de441243",
   "metadata": {},
   "outputs": [
    {
     "name": "stdout",
     "output_type": "stream",
     "text": [
      "True\n"
     ]
    }
   ],
   "source": [
    "print(\"cuando\" not in cadena2)"
   ]
  },
  {
   "cell_type": "code",
   "execution_count": 223,
   "id": "5f8534e7",
   "metadata": {},
   "outputs": [
    {
     "name": "stdout",
     "output_type": "stream",
     "text": [
      "más de\n"
     ]
    }
   ],
   "source": [
    "#inicio:final [final no incluido]\n",
    "\n",
    "print(cadena2[4:10])"
   ]
  },
  {
   "cell_type": "code",
   "execution_count": 224,
   "id": "cbc7fbe3",
   "metadata": {},
   "outputs": [
    {
     "name": "stdout",
     "output_type": "stream",
     "text": [
      "Era más de medianoche\n"
     ]
    }
   ],
   "source": [
    "print(cadena2[:21])"
   ]
  },
  {
   "cell_type": "code",
   "execution_count": 225,
   "id": "88fae7eb",
   "metadata": {},
   "outputs": [
    {
     "name": "stdout",
     "output_type": "stream",
     "text": [
      "antiguas historias cuentan\n"
     ]
    }
   ],
   "source": [
    "print(cadena2[23:])"
   ]
  },
  {
   "cell_type": "code",
   "execution_count": 226,
   "id": "e8bfefec",
   "metadata": {},
   "outputs": [
    {
     "name": "stdout",
     "output_type": "stream",
     "text": [
      "ceda\n"
     ]
    }
   ],
   "source": [
    "cadena3 = \"Espronceda\"\n",
    "\n",
    "print(cadena3[-4:])"
   ]
  },
  {
   "cell_type": "code",
   "execution_count": 227,
   "id": "02250718",
   "metadata": {},
   "outputs": [
    {
     "name": "stdout",
     "output_type": "stream",
     "text": [
      "pron\n"
     ]
    }
   ],
   "source": [
    "print(cadena3[-8:-4])"
   ]
  },
  {
   "cell_type": "code",
   "execution_count": 228,
   "id": "b227cb77",
   "metadata": {},
   "outputs": [
    {
     "name": "stdout",
     "output_type": "stream",
     "text": [
      "E\n",
      "s\n"
     ]
    }
   ],
   "source": [
    "print(min(cadena3))\n",
    "print(max(cadena3))"
   ]
  },
  {
   "cell_type": "code",
   "execution_count": 229,
   "id": "e7a66a39",
   "metadata": {},
   "outputs": [
    {
     "data": {
      "text/plain": [
       "True"
      ]
     },
     "execution_count": 229,
     "metadata": {},
     "output_type": "execute_result"
    }
   ],
   "source": [
    "cadena4 = \"cuando en sueño y en silencio lóbrego envuelta la tierra\"\n",
    "\n",
    "cadena4.startswith(\"cuando\")"
   ]
  },
  {
   "cell_type": "code",
   "execution_count": 230,
   "id": "c8c62dd2",
   "metadata": {},
   "outputs": [
    {
     "data": {
      "text/plain": [
       "False"
      ]
     },
     "execution_count": 230,
     "metadata": {},
     "output_type": "execute_result"
    }
   ],
   "source": [
    "cadena4.endswith(\"cuentan\")"
   ]
  },
  {
   "cell_type": "code",
   "execution_count": 231,
   "id": "60a3db30",
   "metadata": {},
   "outputs": [
    {
     "name": "stdout",
     "output_type": "stream",
     "text": [
      "10\n",
      "-1\n"
     ]
    }
   ],
   "source": [
    "print(cadena4.find(\"sueño\"))\n",
    "print(cadena4.find(\"medianoche\"))"
   ]
  },
  {
   "cell_type": "code",
   "execution_count": 232,
   "id": "cf9d3a99",
   "metadata": {},
   "outputs": [
    {
     "ename": "ValueError",
     "evalue": "substring not found",
     "output_type": "error",
     "traceback": [
      "\u001b[1;31m---------------------------------------------------------------------------\u001b[0m",
      "\u001b[1;31mValueError\u001b[0m                                Traceback (most recent call last)",
      "Cell \u001b[1;32mIn[232], line 1\u001b[0m\n\u001b[1;32m----> 1\u001b[0m \u001b[43mcadena4\u001b[49m\u001b[38;5;241;43m.\u001b[39;49m\u001b[43mindex\u001b[49m\u001b[43m(\u001b[49m\u001b[38;5;124;43m\"\u001b[39;49m\u001b[38;5;124;43mz\u001b[39;49m\u001b[38;5;124;43m\"\u001b[39;49m\u001b[43m)\u001b[49m   \u001b[38;5;66;03m#da error si la substring no existe en la string\u001b[39;00m\n",
      "\u001b[1;31mValueError\u001b[0m: substring not found"
     ]
    }
   ],
   "source": [
    "cadena4.index(\"z\")   #da error si la substring no existe en la string"
   ]
  },
  {
   "cell_type": "code",
   "execution_count": 233,
   "id": "09c71554",
   "metadata": {},
   "outputs": [
    {
     "data": {
      "text/plain": [
       "55"
      ]
     },
     "execution_count": 233,
     "metadata": {},
     "output_type": "execute_result"
    }
   ],
   "source": [
    "cadena4.rfind(\"a\")    #última aparición"
   ]
  },
  {
   "cell_type": "code",
   "execution_count": 234,
   "id": "f6b40027",
   "metadata": {},
   "outputs": [
    {
     "name": "stdout",
     "output_type": "stream",
     "text": [
      "True False\n"
     ]
    }
   ],
   "source": [
    "print(cadena4.islower(), cadena4.isupper())"
   ]
  },
  {
   "cell_type": "code",
   "execution_count": 235,
   "id": "35e3353f",
   "metadata": {},
   "outputs": [
    {
     "data": {
      "text/plain": [
       "'cuando en sueño y en silencio lóbrego envuelta la tierra'"
      ]
     },
     "execution_count": 235,
     "metadata": {},
     "output_type": "execute_result"
    }
   ],
   "source": [
    "cadena4.upper()\n",
    "\n",
    "cadena4"
   ]
  },
  {
   "cell_type": "code",
   "execution_count": 236,
   "id": "cd3e519b",
   "metadata": {},
   "outputs": [
    {
     "name": "stdout",
     "output_type": "stream",
     "text": [
      "CUANDO EN SUEÑO Y EN SILENCIO LÓBREGO ENVUELTA LA TIERRA\n"
     ]
    }
   ],
   "source": [
    "print(cadena4.upper())"
   ]
  },
  {
   "cell_type": "code",
   "execution_count": 237,
   "id": "8bf49d4c",
   "metadata": {},
   "outputs": [
    {
     "name": "stdout",
     "output_type": "stream",
     "text": [
      "ERA MÁS DE MEDIANOCHE, ANTIGUAS HISTORIAS CUENTAN\n"
     ]
    }
   ],
   "source": [
    "cadena2 = cadena2.upper()\n",
    "print(cadena2)"
   ]
  },
  {
   "cell_type": "code",
   "execution_count": 238,
   "id": "4a1786c6",
   "metadata": {},
   "outputs": [
    {
     "data": {
      "text/plain": [
       "'era más de medianoche, antiguas historias cuentan'"
      ]
     },
     "execution_count": 238,
     "metadata": {},
     "output_type": "execute_result"
    }
   ],
   "source": [
    "cadena2.lower()"
   ]
  },
  {
   "cell_type": "code",
   "execution_count": 239,
   "id": "782acac3",
   "metadata": {},
   "outputs": [
    {
     "data": {
      "text/plain": [
       "'Estudiante de Salamanca'"
      ]
     },
     "execution_count": 239,
     "metadata": {},
     "output_type": "execute_result"
    }
   ],
   "source": [
    "cadena5 = \" Estudiante de Salamanca \"\n",
    "cadena5.strip()"
   ]
  },
  {
   "cell_type": "code",
   "execution_count": 240,
   "id": "616c73d0",
   "metadata": {},
   "outputs": [
    {
     "data": {
      "text/plain": [
       "' Estudiante de Salamanca '"
      ]
     },
     "execution_count": 240,
     "metadata": {},
     "output_type": "execute_result"
    }
   ],
   "source": [
    "cadena5"
   ]
  },
  {
   "cell_type": "code",
   "execution_count": 241,
   "id": "d24141c8",
   "metadata": {},
   "outputs": [
    {
     "name": "stdout",
     "output_type": "stream",
     "text": [
      " Estudiante de Salamanca \n"
     ]
    }
   ],
   "source": [
    "print(cadena5)"
   ]
  },
  {
   "cell_type": "code",
   "execution_count": 242,
   "id": "199e2f30",
   "metadata": {},
   "outputs": [
    {
     "data": {
      "text/plain": [
       "'Estudiante de Salamanca '"
      ]
     },
     "execution_count": 242,
     "metadata": {},
     "output_type": "execute_result"
    }
   ],
   "source": [
    "cadena5.lstrip()"
   ]
  },
  {
   "cell_type": "code",
   "execution_count": 243,
   "id": "a36d785b",
   "metadata": {},
   "outputs": [
    {
     "data": {
      "text/plain": [
       "' Estudiante de Salamanca'"
      ]
     },
     "execution_count": 243,
     "metadata": {},
     "output_type": "execute_result"
    }
   ],
   "source": [
    "cadena5.rstrip()"
   ]
  },
  {
   "cell_type": "code",
   "execution_count": 244,
   "id": "16d312aa",
   "metadata": {},
   "outputs": [
    {
     "data": {
      "text/plain": [
       "'Los vivos muertos parecen, los muertos la tumba dejan'"
      ]
     },
     "execution_count": 244,
     "metadata": {},
     "output_type": "execute_result"
    }
   ],
   "source": [
    "cadena6 = \"los vivos muertos parecen, los muertos la tumba dejan\"\n",
    "cadena6.capitalize()"
   ]
  },
  {
   "cell_type": "code",
   "execution_count": 245,
   "id": "13053c81",
   "metadata": {},
   "outputs": [
    {
     "name": "stdout",
     "output_type": "stream",
     "text": [
      "Los vivos muertos parecen,\n",
      "Los muertos la tumba dejan\n"
     ]
    }
   ],
   "source": [
    "cadena6 = cadena6.replace(\"lo\", \"Lo\")\n",
    "cadena6 = cadena6.replace(\", \", \",\\n\")\n",
    "\n",
    "print(cadena6)"
   ]
  },
  {
   "cell_type": "code",
   "execution_count": 246,
   "id": "b41c615e",
   "metadata": {},
   "outputs": [
    {
     "data": {
      "text/plain": [
       "'Los vivos muertos parecen,\\n'"
      ]
     },
     "execution_count": 246,
     "metadata": {},
     "output_type": "execute_result"
    }
   ],
   "source": [
    "cadena6 = cadena6.replace(\"Los muertos la tumba dejan\", \"\")\n",
    "\n",
    "cadena6"
   ]
  },
  {
   "cell_type": "code",
   "execution_count": 247,
   "id": "06830644",
   "metadata": {},
   "outputs": [
    {
     "data": {
      "text/plain": [
       "['Los', 'vivos', 'muertos', 'parecen,']"
      ]
     },
     "execution_count": 247,
     "metadata": {},
     "output_type": "execute_result"
    }
   ],
   "source": [
    "cadena6.split()"
   ]
  },
  {
   "cell_type": "code",
   "execution_count": 248,
   "id": "234fd9ed",
   "metadata": {},
   "outputs": [
    {
     "data": {
      "text/plain": [
       "['Era más de medianoche',\n",
       " ' antiguas historias cuentan',\n",
       " ' cuando en sueño y en silencio lóbrego envuelta la tierra',\n",
       " ' los vivos muertos parecen',\n",
       " ' los muertos la tumba dejan']"
      ]
     },
     "execution_count": 248,
     "metadata": {},
     "output_type": "execute_result"
    }
   ],
   "source": [
    "cadena7 = \"Era más de medianoche, antiguas historias cuentan, cuando en sueño y en silencio lóbrego envuelta la tierra, los vivos muertos parecen, los muertos la tumba dejan\"\n",
    "\n",
    "cadena7.split(\",\")"
   ]
  },
  {
   "cell_type": "code",
   "execution_count": 251,
   "id": "a3f93e47",
   "metadata": {},
   "outputs": [
    {
     "data": {
      "text/plain": [
       "'Era más de medianoche_antiguas historias cuentan_cuando en sueño y en silencio lóbrego envuelta la tierra_los vivos muertos parecen_los muertos la tumba dejan'"
      ]
     },
     "execution_count": 251,
     "metadata": {},
     "output_type": "execute_result"
    }
   ],
   "source": [
    "cadena7b = cadena7.split(\", \")\n",
    "\n",
    "\"_\".join(cadena7b)"
   ]
  },
  {
   "cell_type": "code",
   "execution_count": 250,
   "id": "d8cfcf13",
   "metadata": {},
   "outputs": [
    {
     "data": {
      "text/plain": [
       "'Era más de medianoche antiguas historias cuentan cuando en sueño y en silencio lóbrego envuelta la tierra los vivos muertos parecen los muertos la tumba dejan'"
      ]
     },
     "execution_count": 250,
     "metadata": {},
     "output_type": "execute_result"
    }
   ],
   "source": [
    "cadena7.replace(\",\", \"\")"
   ]
  }
 ],
 "metadata": {
  "kernelspec": {
   "display_name": "Python 3 (ipykernel)",
   "language": "python",
   "name": "python3"
  },
  "language_info": {
   "codemirror_mode": {
    "name": "ipython",
    "version": 3
   },
   "file_extension": ".py",
   "mimetype": "text/x-python",
   "name": "python",
   "nbconvert_exporter": "python",
   "pygments_lexer": "ipython3",
   "version": "3.10.0"
  }
 },
 "nbformat": 4,
 "nbformat_minor": 5
}
