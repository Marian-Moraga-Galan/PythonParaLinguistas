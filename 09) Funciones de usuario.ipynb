{
 "cells": [
  {
   "cell_type": "code",
   "execution_count": 8,
   "id": "b79edbfe",
   "metadata": {},
   "outputs": [
    {
     "name": "stdout",
     "output_type": "stream",
     "text": [
      "¡Al ataque!\n"
     ]
    }
   ],
   "source": [
    "def empecemos():\n",
    "    return \"¡Al ataque!\"\n",
    "\n",
    "mensaje = empecemos()\n",
    "print(mensaje)"
   ]
  },
  {
   "cell_type": "code",
   "execution_count": 2,
   "id": "3b30041c",
   "metadata": {},
   "outputs": [
    {
     "data": {
      "text/plain": [
       "'Buenas, Sancho Panza'"
      ]
     },
     "execution_count": 2,
     "metadata": {},
     "output_type": "execute_result"
    }
   ],
   "source": [
    "def saludo(persona):\n",
    "    return f\"Buenas, {persona}\"\n",
    "\n",
    "saludo(\"Don Quijote\")\n",
    "saludo(\"Sancho Panza\")"
   ]
  },
  {
   "cell_type": "code",
   "execution_count": 3,
   "id": "4bad654a",
   "metadata": {},
   "outputs": [
    {
     "data": {
      "text/plain": [
       "'Me llamo Sancho Panza y soy escudero'"
      ]
     },
     "execution_count": 3,
     "metadata": {},
     "output_type": "execute_result"
    }
   ],
   "source": [
    "def presentación(nombre, profesión):\n",
    "    return f\"Me llamo {nombre} y soy {profesión}\"\n",
    "\n",
    "presentación(\"Don Quijote\", \"caballero\")\n",
    "presentación(\"Sancho Panza\", \"escudero\")"
   ]
  },
  {
   "cell_type": "code",
   "execution_count": 5,
   "id": "d3a52f06",
   "metadata": {},
   "outputs": [
    {
     "data": {
      "text/plain": [
       "'Tengo 3 hermanos y Carlos es el mayor'"
      ]
     },
     "execution_count": 5,
     "metadata": {},
     "output_type": "execute_result"
    }
   ],
   "source": [
    "def hermanos(número, *mayor):\n",
    "    return f\"Tengo {número} hermanos y {mayor[0]} es el mayor\"\n",
    "\n",
    "hermanos(3, \"Carlos\", \"Juan\", \"Marcos\")"
   ]
  },
  {
   "cell_type": "code",
   "execution_count": 6,
   "id": "61ff0a5d",
   "metadata": {},
   "outputs": [
    {
     "name": "stdout",
     "output_type": "stream",
     "text": [
      "Se llama Claudia y su profesión es pintora\n",
      "Se llama Claudio y su profesión es desconocida\n"
     ]
    }
   ],
   "source": [
    "def presentación2(nombre, profesión=\"desconocida\"):\n",
    "    return f\"Se llama {nombre} y su profesión es {profesión}\"\n",
    "\n",
    "print(presentación2(\"Claudia\", \"pintora\"))   #por qué devuelve None?\n",
    "print(presentación2(\"Claudio\"))"
   ]
  },
  {
   "cell_type": "code",
   "execution_count": 1,
   "id": "84718242",
   "metadata": {},
   "outputs": [
    {
     "name": "stdout",
     "output_type": "stream",
     "text": [
      "Ahora se imprime el valor de la variable local\n",
      "Ahora se imprime el valor de la variable global\n"
     ]
    }
   ],
   "source": [
    "variable = \"global\"\n",
    "\n",
    "def atención():\n",
    "    variable = \"local\"\n",
    "    return \"Ahora se imprime el valor de la variable \" + variable\n",
    "\n",
    "print(atención())\n",
    "print(\"Ahora se imprime el valor de la variable \" + variable)"
   ]
  },
  {
   "cell_type": "code",
   "execution_count": 5,
   "id": "0700be87",
   "metadata": {},
   "outputs": [
    {
     "name": "stdout",
     "output_type": "stream",
     "text": [
      "La palabra más larga es 'invierno'\n",
      "La palabra más larga es 'canela'\n"
     ]
    },
    {
     "data": {
      "text/plain": [
       "'Las dos palabras tienen el mismo número de letras'"
      ]
     },
     "execution_count": 5,
     "metadata": {},
     "output_type": "execute_result"
    }
   ],
   "source": [
    "def palabra_larga(palabra1, palabra2):\n",
    "    if len(palabra1) > len(palabra2):\n",
    "        print(f\"La palabra más larga es '{palabra1}'\")\n",
    "    elif len(palabra1) < len(palabra2):\n",
    "        print(f\"La palabra más larga es '{palabra2}'\")\n",
    "    else:\n",
    "        return \"Las dos palabras tienen el mismo número de letras\"\n",
    "\n",
    "palabra_larga(\"invierno\", \"verano\")\n",
    "palabra_larga(\"anís\", \"canela\")\n",
    "palabra_larga(\"abeja\", \"oveja\")"
   ]
  },
  {
   "cell_type": "code",
   "execution_count": 13,
   "id": "ed840b2a",
   "metadata": {},
   "outputs": [
    {
     "data": {
      "text/plain": [
       "['Mancha', 'nombre', 'quiero', 'acordarme']"
      ]
     },
     "execution_count": 13,
     "metadata": {},
     "output_type": "execute_result"
    }
   ],
   "source": [
    "def palabras_largas(lista_palabras):\n",
    "    lista_largas = []\n",
    "    for palabra in lista_palabras:\n",
    "        if len(palabra) > 5:\n",
    "            lista_largas.append(palabra)\n",
    "    return lista_largas\n",
    "\n",
    "milista = [\"En\", \"un\", \"lugar\", \"de\", \"la\", \"Mancha\", \"de\", \"cuyo\", \"nombre\", \"no\", \"quiero\", \"acordarme\"]\n",
    "\n",
    "palabras_largas(milista)"
   ]
  }
 ],
 "metadata": {
  "kernelspec": {
   "display_name": "Python 3 (ipykernel)",
   "language": "python",
   "name": "python3"
  },
  "language_info": {
   "codemirror_mode": {
    "name": "ipython",
    "version": 3
   },
   "file_extension": ".py",
   "mimetype": "text/x-python",
   "name": "python",
   "nbconvert_exporter": "python",
   "pygments_lexer": "ipython3",
   "version": "3.10.0"
  }
 },
 "nbformat": 4,
 "nbformat_minor": 5
}
