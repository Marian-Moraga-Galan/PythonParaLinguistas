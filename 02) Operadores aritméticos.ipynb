{
 "cells": [
  {
   "cell_type": "code",
   "execution_count": 2,
   "id": "63f0f570",
   "metadata": {},
   "outputs": [
    {
     "name": "stdout",
     "output_type": "stream",
     "text": [
      "13\n",
      "7\n",
      "30\n",
      "3.3333333333333335\n",
      "3\n",
      "1\n",
      "1000\n"
     ]
    }
   ],
   "source": [
    "suma = 10 + 3\n",
    "resta = 10 - 3\n",
    "multiplicación = 10 * 3\n",
    "división = 10 / 3\n",
    "división_entera = 10 // 3\n",
    "resto_división = 10 % 3\n",
    "exponente = 10 ** 3\n",
    "\n",
    "print(suma)\n",
    "print (resta)\n",
    "print(multiplicación)\n",
    "print(división)\n",
    "print(división_entera)\n",
    "print(resto_división)\n",
    "print(exponente)"
   ]
  },
  {
   "cell_type": "code",
   "execution_count": 3,
   "id": "c08cea6f",
   "metadata": {},
   "outputs": [
    {
     "data": {
      "text/plain": [
       "30.0"
      ]
     },
     "execution_count": 3,
     "metadata": {},
     "output_type": "execute_result"
    }
   ],
   "source": [
    "(7 - 2) * ((8 + 4) / (10 - 8))"
   ]
  },
  {
   "cell_type": "code",
   "execution_count": 4,
   "id": "0588e4f0",
   "metadata": {},
   "outputs": [
    {
     "name": "stdout",
     "output_type": "stream",
     "text": [
      "1440\n"
     ]
    }
   ],
   "source": [
    "horas = 24\n",
    "minutos = horas * 60\n",
    "\n",
    "print(minutos)"
   ]
  },
  {
   "cell_type": "markdown",
   "id": "7f37a0df",
   "metadata": {},
   "source": []
  },
  {
   "cell_type": "code",
   "execution_count": 5,
   "id": "d917792d",
   "metadata": {},
   "outputs": [
    {
     "name": "stdout",
     "output_type": "stream",
     "text": [
      "1\n",
      "2\n"
     ]
    }
   ],
   "source": [
    "ejercicios = 1\n",
    "print(ejercicios)\n",
    "\n",
    "ejercicios = ejercicios + 1\n",
    "print (ejercicios)"
   ]
  }
 ],
 "metadata": {
  "kernelspec": {
   "display_name": "Python 3 (ipykernel)",
   "language": "python",
   "name": "python3"
  },
  "language_info": {
   "codemirror_mode": {
    "name": "ipython",
    "version": 3
   },
   "file_extension": ".py",
   "mimetype": "text/x-python",
   "name": "python",
   "nbconvert_exporter": "python",
   "pygments_lexer": "ipython3",
   "version": "3.11.5"
  }
 },
 "nbformat": 4,
 "nbformat_minor": 5
}
