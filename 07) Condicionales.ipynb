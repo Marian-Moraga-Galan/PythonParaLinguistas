{
 "cells": [
  {
   "cell_type": "code",
   "execution_count": 2,
   "id": "28ea4d0d",
   "metadata": {},
   "outputs": [
    {
     "name": "stdout",
     "output_type": "stream",
     "text": [
      "True\n"
     ]
    }
   ],
   "source": [
    "a = 7\n",
    "b = 17\n",
    "\n",
    "if a < b:  \t  \t  \t  \t# *if a < b\n",
    "    print(True)  \t  \t#  print(True)"
   ]
  },
  {
   "cell_type": "code",
   "execution_count": 3,
   "id": "e3c6aa3b",
   "metadata": {},
   "outputs": [
    {
     "name": "stdout",
     "output_type": "stream",
     "text": [
      "False\n"
     ]
    }
   ],
   "source": [
    "if a > b:\n",
    "    print(True)\n",
    "else:\n",
    "    print(False)"
   ]
  },
  {
   "cell_type": "code",
   "execution_count": 4,
   "id": "ffbae4f7",
   "metadata": {},
   "outputs": [
    {
     "name": "stdout",
     "output_type": "stream",
     "text": [
      "No es mayor\n"
     ]
    }
   ],
   "source": [
    "print(\"Es mayor\") if a > b else print (\"No es mayor\")"
   ]
  },
  {
   "cell_type": "code",
   "execution_count": 5,
   "id": "11aba68f",
   "metadata": {},
   "outputs": [
    {
     "name": "stdout",
     "output_type": "stream",
     "text": [
      "'a' no es mayor de 'b'\n"
     ]
    }
   ],
   "source": [
    "if not a > b:\n",
    "    print(\"'a' no es mayor de 'b'\")"
   ]
  },
  {
   "cell_type": "code",
   "execution_count": 6,
   "id": "8c52ce07",
   "metadata": {},
   "outputs": [
    {
     "name": "stdout",
     "output_type": "stream",
     "text": [
      "Al menos una no se cumple\n"
     ]
    }
   ],
   "source": [
    "if a > b and a == b:\n",
    "    print(\"Ambas se cumplen\")\n",
    "else:\n",
    "    print(\"Al menos una no se cumple\")"
   ]
  },
  {
   "cell_type": "code",
   "execution_count": 11,
   "id": "f1a30ad8",
   "metadata": {},
   "outputs": [
    {
     "name": "stdout",
     "output_type": "stream",
     "text": [
      "Al menos una condición se evalúa a True\n"
     ]
    }
   ],
   "source": [
    "c = 70\n",
    "\n",
    "if a > b or c > b:\n",
    "    print(\"Al menos una condición se evalúa a True\")"
   ]
  },
  {
   "cell_type": "code",
   "execution_count": 13,
   "id": "a7f8de58",
   "metadata": {},
   "outputs": [
    {
     "name": "stdout",
     "output_type": "stream",
     "text": [
      "'y' es igual que 'z'\n"
     ]
    }
   ],
   "source": [
    "y = z = 17\n",
    "\n",
    "if y < z:\n",
    "    print(\"'y' es menor que 'z'\")\n",
    "elif y > z:\n",
    "    print(\"'y' es mayor que 'z'\")\n",
    "else:\n",
    "    print(\"'y' es igual que 'z'\")"
   ]
  },
  {
   "cell_type": "code",
   "execution_count": 5,
   "id": "8234f249",
   "metadata": {},
   "outputs": [
    {
     "name": "stdout",
     "output_type": "stream",
     "text": [
      "El microrrelato empieza con 'Cuando'\n",
      "Fin del análisis\n"
     ]
    }
   ],
   "source": [
    "microrrelato = \"Cuando despertó, el dinosaurio todavía estaba allí.\"\n",
    "\n",
    "if microrrelato.startswith(\"Cuando\") == True:\n",
    "    print(\"El microrrelato empieza con 'Cuando'\")\n",
    "elif microrrelato.lower() == microrrelato:\n",
    "    print(\"El microrrelato está todo en minúsculas\"),\n",
    "elif microrrelato.capitalize() == microrrelato:\n",
    "    print(\"El microrrelato empieza con una mayúscula\"),\n",
    "elif microrrelato.endswith(\".\") == True:\n",
    "    print(\"El microrrelato termina con un punto\")\n",
    "    \n",
    "print(\"Fin del análisis\")"
   ]
  },
  {
   "cell_type": "code",
   "execution_count": 6,
   "id": "f1d2323a",
   "metadata": {},
   "outputs": [
    {
     "name": "stdout",
     "output_type": "stream",
     "text": [
      "El microrrelato empieza con una mayúscula\n",
      "Fin del análisis\n"
     ]
    }
   ],
   "source": [
    "if microrrelato.startswith(\"cuando\"):\n",
    "    print(\"El microrrelato empieza con 'cuando'\")\n",
    "elif microrrelato.lower() == microrrelato:\n",
    "    print(\"El microrrelato está todo en minúsculas\"),\n",
    "elif microrrelato.capitalize() == microrrelato:\n",
    "    print(\"El microrrelato empieza con una mayúscula\"),\n",
    "elif microrrelato.endswith(\".\"):\n",
    "    print(\"El microrrelato termina con un punto\")\n",
    "\n",
    "print(\"Fin del análisis\")"
   ]
  },
  {
   "cell_type": "code",
   "execution_count": 7,
   "id": "6f140665",
   "metadata": {},
   "outputs": [
    {
     "name": "stdout",
     "output_type": "stream",
     "text": [
      "El microrrelato empieza con una mayúscula\n",
      "El microrrelato termina además con un punto\n",
      "Fin del análisis\n"
     ]
    }
   ],
   "source": [
    "if microrrelato.startswith(\"cuando\"):\n",
    "    print(\"El microrrelato empieza con 'cuando'\")\n",
    "elif microrrelato.lower() == microrrelato:\n",
    "    print(\"El microrrelato está todo en minúsculas\"),\n",
    "elif microrrelato.capitalize() == microrrelato:\n",
    "    print(\"El microrrelato empieza con una mayúscula\"),\n",
    "    if microrrelato.endswith(\".\"):\n",
    "        print(\"El microrrelato termina además con un punto\")\n",
    "\n",
    "print(\"Fin del análisis\")"
   ]
  },
  {
   "cell_type": "code",
   "execution_count": 8,
   "id": "00e7013e",
   "metadata": {},
   "outputs": [
    {
     "name": "stdout",
     "output_type": "stream",
     "text": [
      "'Cuando despertó, el dinosaurio todavía estaba allí.' contiene la palabra 'dinosaurio'\n",
      "Fin del análisis\n"
     ]
    }
   ],
   "source": [
    "análisis = f\"'{microrrelato}' contiene la palabra 'dinosaurio'\" if microrrelato.__contains__(\"dinosaurio\") else f\"{microrrelato} no contiene la palabra'dinosaurio'\"\n",
    "print(análisis)\n",
    "print(\"Fin del análisis\")"
   ]
  }
 ],
 "metadata": {
  "kernelspec": {
   "display_name": "Python 3 (ipykernel)",
   "language": "python",
   "name": "python3"
  },
  "language_info": {
   "codemirror_mode": {
    "name": "ipython",
    "version": 3
   },
   "file_extension": ".py",
   "mimetype": "text/x-python",
   "name": "python",
   "nbconvert_exporter": "python",
   "pygments_lexer": "ipython3",
   "version": "3.10.0"
  }
 },
 "nbformat": 4,
 "nbformat_minor": 5
}
