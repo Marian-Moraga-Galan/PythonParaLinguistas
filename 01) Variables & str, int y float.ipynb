{
 "cells": [
  {
   "cell_type": "code",
   "execution_count": 2,
   "id": "87fbcdc2",
   "metadata": {},
   "outputs": [
    {
     "name": "stdout",
     "output_type": "stream",
     "text": [
      "Esto es una cadena, siempre entre comillas simples o dobles\n",
      "1\n",
      "1.0\n",
      "Las cadenas son secuencias de caracteres\n"
     ]
    }
   ],
   "source": [
    "string_var = \"Esto es una cadena, siempre entre comillas simples o dobles\"\n",
    "integer_var = 1\n",
    "floating_point_var = 1.0\n",
    "\n",
    "print(string_var)\n",
    "print(integer_var)\n",
    "print(floating_point_var)\n",
    "print(\"Las cadenas son secuencias de caracteres\")"
   ]
  },
  {
   "cell_type": "code",
   "execution_count": 3,
   "id": "53c074a2",
   "metadata": {},
   "outputs": [
    {
     "name": "stdout",
     "output_type": "stream",
     "text": [
      "Y esto es una string\n",
      "en bloque, también con tres\n",
      "comillas antes y después\n",
      "Usa '\n",
      "' para hacer un salto de línea y '\t' para tabular\n"
     ]
    }
   ],
   "source": [
    "#Esto es un comentario en una línea. La máquina lo ignorará.\n",
    "\n",
    "\"\"\"\n",
    "Esto es un comentario en bloque.\n",
    "3 comillas dobles o simples antes y después.\n",
    "La máquina lo ignorará.\n",
    "\"\"\"\n",
    "\n",
    "cadena_bloque = \"\"\"Y esto es una string\n",
    "en bloque, también con tres\n",
    "comillas antes y después\"\"\"\n",
    "print(cadena_bloque)\n",
    "\n",
    "cadena2 = \"Usa '\\n' para hacer un salto de línea y '\\t' para tabular\"\n",
    "print(cadena2)"
   ]
  },
  {
   "cell_type": "code",
   "execution_count": 3,
   "id": "0ccf2d64",
   "metadata": {},
   "outputs": [
    {
     "name": "stdout",
     "output_type": "stream",
     "text": [
      "7\n",
      "7\n",
      "7.0\n"
     ]
    }
   ],
   "source": [
    "x = str(7)\n",
    "y = int(\"7\")\n",
    "z = float(7)\n",
    "\n",
    "print(x)\n",
    "print(y)\n",
    "print(z)"
   ]
  },
  {
   "cell_type": "code",
   "execution_count": 18,
   "id": "400b9943",
   "metadata": {},
   "outputs": [
    {
     "name": "stdout",
     "output_type": "stream",
     "text": [
      "<class 'str'>\n",
      "<class 'int'>\n",
      "<class 'float'>\n"
     ]
    }
   ],
   "source": [
    "a = \"Saludos\"\n",
    "b = 7\n",
    "c = 7.5\n",
    "\n",
    "print(type(a))\n",
    "print(type(b))\n",
    "print(type(c))"
   ]
  },
  {
   "cell_type": "code",
   "execution_count": 9,
   "id": "4cb2ee8c",
   "metadata": {},
   "outputs": [
    {
     "name": "stdout",
     "output_type": "stream",
     "text": [
      "7\n",
      "7\n",
      "7.0\n",
      "7\n"
     ]
    }
   ],
   "source": [
    "num1 = \"7\"\n",
    "num2 = 7\n",
    "num3 = 7.5\n",
    "\n",
    "print(int(num1))\n",
    "print(str(num2))\n",
    "print(float(num2))\n",
    "print(int(num3))"
   ]
  },
  {
   "cell_type": "code",
   "execution_count": 10,
   "id": "989b3d4d",
   "metadata": {},
   "outputs": [
    {
     "name": "stdout",
     "output_type": "stream",
     "text": [
      "Buenas\n",
      "7\n",
      "7.5\n"
     ]
    }
   ],
   "source": [
    "d, e, f = \"Buenas\", 7, 7.5\n",
    "\n",
    "print(d)\n",
    "print(e)\n",
    "print(f)"
   ]
  },
  {
   "cell_type": "code",
   "execution_count": 17,
   "id": "723945c5",
   "metadata": {},
   "outputs": [
    {
     "name": "stdout",
     "output_type": "stream",
     "text": [
      "Hey\n",
      "Hey\n"
     ]
    }
   ],
   "source": [
    "alpha = beta = \"Hey\"\n",
    "\n",
    "print(alpha)\n",
    "print(beta)"
   ]
  },
  {
   "cell_type": "code",
   "execution_count": 15,
   "id": "c5fb1ec3",
   "metadata": {},
   "outputs": [
    {
     "name": "stdout",
     "output_type": "stream",
     "text": [
      "Buenas\n",
      "Buenos días\n"
     ]
    }
   ],
   "source": [
    "saludo = \"Buenas\"\n",
    "print(saludo)\n",
    "\n",
    "saludo = \"Buenos días\"\n",
    "print(saludo)"
   ]
  },
  {
   "cell_type": "code",
   "execution_count": 16,
   "id": "4dcf6936",
   "metadata": {},
   "outputs": [
    {
     "name": "stdout",
     "output_type": "stream",
     "text": [
      "Buenas tardes\n",
      "Buenas tardes\n"
     ]
    }
   ],
   "source": [
    "saludo2 = \"Buenas\"\n",
    "saludo2 = \"Buenas tardes\"\n",
    "\n",
    "print (saludo2)\n",
    "print (saludo2)"
   ]
  }
 ],
 "metadata": {
  "kernelspec": {
   "display_name": "Python 3 (ipykernel)",
   "language": "python",
   "name": "python3"
  },
  "language_info": {
   "codemirror_mode": {
    "name": "ipython",
    "version": 3
   },
   "file_extension": ".py",
   "mimetype": "text/x-python",
   "name": "python",
   "nbconvert_exporter": "python",
   "pygments_lexer": "ipython3",
   "version": "3.11.7"
  }
 },
 "nbformat": 4,
 "nbformat_minor": 5
}
