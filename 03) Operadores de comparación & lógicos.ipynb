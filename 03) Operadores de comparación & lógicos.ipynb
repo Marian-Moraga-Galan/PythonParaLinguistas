{
 "cells": [
  {
   "cell_type": "code",
   "execution_count": 1,
   "id": "cdcafb30",
   "metadata": {},
   "outputs": [
    {
     "name": "stdout",
     "output_type": "stream",
     "text": [
      "True False\n"
     ]
    }
   ],
   "source": [
    "\"\"\"\n",
    "< menor\n",
    "<= menor o igual\n",
    "< mayor\n",
    "<= mayor o igual\n",
    "== igual\n",
    "!= distinto\n",
    "\"\"\"\n",
    "\n",
    "print(7<8, 7!=7)"
   ]
  },
  {
   "cell_type": "code",
   "execution_count": 5,
   "id": "239c155d",
   "metadata": {},
   "outputs": [
    {
     "name": "stdout",
     "output_type": "stream",
     "text": [
      "False True True\n"
     ]
    }
   ],
   "source": [
    "\"\"\"\n",
    "and [si se combinan dos expresiones \n",
    "    y ambas se evalúan a True,\n",
    "    devolverá True]\n",
    "    \n",
    "or [si se combinan dos expresiones\n",
    "    y al menos una se evalúa a True,\n",
    "    devolverá True]\n",
    "    \n",
    "not [se aplica a una sola expresión;\n",
    "    si la expresión se evalúa a True,\n",
    "    devuelve False y viceversa]\n",
    "\"\"\"\n",
    "\n",
    "print(7<8 and 7>8,  7<8 or 7>8, not (7>8))"
   ]
  },
  {
   "cell_type": "code",
   "execution_count": 1,
   "id": "f749686b",
   "metadata": {},
   "outputs": [
    {
     "name": "stdout",
     "output_type": "stream",
     "text": [
      "True\n",
      "False\n"
     ]
    }
   ],
   "source": [
    "print(7<8 or 7>8 and 7>8)       #and tiene preferencia sobre or\n",
    "print((7<8 or 7>8) and 7>8)"
   ]
  }
 ],
 "metadata": {
  "kernelspec": {
   "display_name": "Python 3 (ipykernel)",
   "language": "python",
   "name": "python3"
  },
  "language_info": {
   "codemirror_mode": {
    "name": "ipython",
    "version": 3
   },
   "file_extension": ".py",
   "mimetype": "text/x-python",
   "name": "python",
   "nbconvert_exporter": "python",
   "pygments_lexer": "ipython3",
   "version": "3.10.0"
  }
 },
 "nbformat": 4,
 "nbformat_minor": 5
}
