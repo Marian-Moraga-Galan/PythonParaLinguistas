{
 "cells": [
  {
   "cell_type": "code",
   "execution_count": 1,
   "id": "9c6c3965",
   "metadata": {},
   "outputs": [
    {
     "name": "stdout",
     "output_type": "stream",
     "text": [
      "Esta es la vuelta número 1\n",
      "Esta es la vuelta número 2\n",
      "Esta es la vuelta número 3\n",
      "Esta es la vuelta número 4\n"
     ]
    }
   ],
   "source": [
    "lista = [1,2,3,4]\n",
    "\n",
    "for número in lista:\n",
    "    print(f\"Esta es la vuelta número {número}\")    "
   ]
  },
  {
   "cell_type": "code",
   "execution_count": 2,
   "id": "a9115d0b",
   "metadata": {},
   "outputs": [
    {
     "name": "stdout",
     "output_type": "stream",
     "text": [
      "C\n",
      "h\n",
      "o\n",
      "m\n",
      "s\n",
      "k\n",
      "y\n"
     ]
    }
   ],
   "source": [
    "for i in \"Chomsky\":      #iteración, repetición, bucle\n",
    "    print(i)"
   ]
  },
  {
   "cell_type": "code",
   "execution_count": 3,
   "id": "8c4caa6e",
   "metadata": {},
   "outputs": [
    {
     "name": "stdout",
     "output_type": "stream",
     "text": [
      "Ahora 'loquesea' es igual a 'a'\n",
      "Ahora 'loquesea' es igual a 'b'\n",
      "Ahora 'loquesea' es igual a 'c'\n",
      "Ahora 'loquesea' es igual a 'd'\n"
     ]
    }
   ],
   "source": [
    "for loquesea in (\"a\", \"b\", \"c\", \"d\"):\n",
    "    print(f\"Ahora 'loquesea' es igual a '{loquesea}'\")"
   ]
  },
  {
   "cell_type": "code",
   "execution_count": 4,
   "id": "e929a295",
   "metadata": {},
   "outputs": [
    {
     "name": "stdout",
     "output_type": "stream",
     "text": [
      "0\n",
      "1\n",
      "2\n",
      "3\n",
      "4\n",
      "El bucle ha llegado a su fin\n"
     ]
    }
   ],
   "source": [
    "for x in range(5):\n",
    "    print(x)\n",
    "else:\n",
    "    print(\"El bucle ha llegado a su fin\")"
   ]
  },
  {
   "cell_type": "code",
   "execution_count": 5,
   "id": "db6a042a",
   "metadata": {},
   "outputs": [
    {
     "name": "stdout",
     "output_type": "stream",
     "text": [
      "0\n",
      "1\n",
      "2\n",
      "3\n",
      "4\n"
     ]
    }
   ],
   "source": [
    "for x in range(10):\n",
    "    if x == 5: break\n",
    "    print(x)\n",
    "else:\n",
    "    print(\"El bucle ha llegado a su fin\")"
   ]
  },
  {
   "cell_type": "code",
   "execution_count": 6,
   "id": "c292d80d",
   "metadata": {},
   "outputs": [
    {
     "name": "stdout",
     "output_type": "stream",
     "text": [
      "Juan Martínez\n",
      "Juan López\n",
      "Juan García\n",
      "Juan Rodríguez\n",
      "Carmen Martínez\n",
      "Carmen López\n",
      "Carmen García\n",
      "Carmen Rodríguez\n",
      "Luis Martínez\n",
      "Luis López\n",
      "Luis García\n",
      "Luis Rodríguez\n",
      "Isabel Martínez\n",
      "Isabel López\n",
      "Isabel García\n",
      "Isabel Rodríguez\n"
     ]
    }
   ],
   "source": [
    "nombres = [\"Juan\", \"Carmen\", \"Luis\", \"Isabel\"]\n",
    "apellidos = [\"Martínez\", \"López\", \"García\", \"Rodríguez\"]\n",
    "\n",
    "for nombre in nombres:\n",
    "    for apellido in apellidos:\n",
    "        print(nombre, apellido)"
   ]
  },
  {
   "cell_type": "code",
   "execution_count": 7,
   "id": "c0441506",
   "metadata": {},
   "outputs": [
    {
     "name": "stdout",
     "output_type": "stream",
     "text": [
      "6\n"
     ]
    }
   ],
   "source": [
    "howmanyA = 0\n",
    "\n",
    "for i in \"La vaca es un animal todo forrado de cuero\":\n",
    "    if i == \"a\":\n",
    "        howmanyA += 1\n",
    "\n",
    "print(howmanyA)   "
   ]
  },
  {
   "cell_type": "code",
   "execution_count": 3,
   "id": "9a8a0ffc",
   "metadata": {},
   "outputs": [
    {
     "name": "stdout",
     "output_type": "stream",
     "text": [
      "0, Tiene\n",
      "1, las\n",
      "2, patas\n",
      "3, tan\n",
      "4, largas\n",
      "5, que\n",
      "6, le\n",
      "7, llegan\n",
      "8, hasta\n",
      "9, el\n",
      "10, suelo\n"
     ]
    }
   ],
   "source": [
    "oración =\"Tiene las patas tan largas que le llegan hasta el suelo\"\n",
    "\n",
    "for elemento, posición in enumerate(oración.split()):\n",
    "    print(f\"{elemento}, {posición}\")"
   ]
  },
  {
   "cell_type": "code",
   "execution_count": 7,
   "id": "ebc6fcb3",
   "metadata": {},
   "outputs": [
    {
     "name": "stdout",
     "output_type": "stream",
     "text": [
      "['v', 'a', 'c', 'a']\n"
     ]
    }
   ],
   "source": [
    "#listas intensionales, añadir eltos a lista con for\n",
    "\n",
    "palabra = [letra for letra in \"vaca\"]\n",
    "\n",
    "print(palabra)"
   ]
  },
  {
   "cell_type": "code",
   "execution_count": 5,
   "id": "e8f6405a",
   "metadata": {},
   "outputs": [
    {
     "name": "stdout",
     "output_type": "stream",
     "text": [
      "[1, 3, 5, 7, 9]\n"
     ]
    }
   ],
   "source": [
    "impares = [i for i in range(10) if i%2 != 0]\n",
    "\n",
    "print(impares)"
   ]
  },
  {
   "cell_type": "code",
   "execution_count": 1,
   "id": "eb1aae9e",
   "metadata": {},
   "outputs": [
    {
     "name": "stdout",
     "output_type": "stream",
     "text": [
      "['Más', 'se', 'obstinó', 'supo']\n"
     ]
    }
   ],
   "source": [
    "buitre_predilecta = \"Más arriba, a la izquierda, tengo algo muy dulce para ti. (Ella se obstinó en el hígado y no supo el corazón de Prometeo.)\"\n",
    "lista_oración = buitre_predilecta.split()\n",
    "\n",
    "contieneS = [palabra for palabra in lista_oración if palabra.__contains__(\"s\")]\n",
    "\n",
    "print(contieneS)"
   ]
  },
  {
   "cell_type": "code",
   "execution_count": 3,
   "id": "fe5b5761",
   "metadata": {},
   "outputs": [
    {
     "name": "stdout",
     "output_type": "stream",
     "text": [
      "['M', 'e', 'b', 'o']\n"
     ]
    }
   ],
   "source": [
    "min_contieneS = [min(palabra) for palabra in lista_oración if palabra.__contains__(\"s\")]\n",
    "\n",
    "print(min_contieneS)"
   ]
  },
  {
   "cell_type": "code",
   "execution_count": 1,
   "id": "0cb07e10",
   "metadata": {},
   "outputs": [
    {
     "name": "stdout",
     "output_type": "stream",
     "text": [
      "0\n",
      "1\n",
      "2\n",
      "3\n",
      "4\n"
     ]
    }
   ],
   "source": [
    "vuelta = 0\n",
    "\n",
    "while vuelta < 5:\n",
    "    print(vuelta)\n",
    "    vuelta += 1      #sin esto, el bucle sería infinito"
   ]
  },
  {
   "cell_type": "code",
   "execution_count": 2,
   "id": "fbcbe307",
   "metadata": {},
   "outputs": [
    {
     "name": "stdout",
     "output_type": "stream",
     "text": [
      "0\n",
      "1\n",
      "2\n"
     ]
    }
   ],
   "source": [
    "vuelta = 0\n",
    "\n",
    "while vuelta < 5:\n",
    "    print(vuelta)\n",
    "    if vuelta == 2:\n",
    "        break\n",
    "    vuelta += 1"
   ]
  },
  {
   "cell_type": "code",
   "execution_count": 3,
   "id": "eef64b7c",
   "metadata": {},
   "outputs": [
    {
     "name": "stdout",
     "output_type": "stream",
     "text": [
      "1\n",
      "3\n",
      "4\n",
      "5\n"
     ]
    }
   ],
   "source": [
    "vuelta = 0\n",
    "\n",
    "while vuelta < 5:\n",
    "    vuelta += 1\n",
    "    if vuelta == 2:\n",
    "        continue\n",
    "    print(vuelta)"
   ]
  },
  {
   "cell_type": "code",
   "execution_count": 4,
   "id": "6371aff5",
   "metadata": {},
   "outputs": [
    {
     "name": "stdout",
     "output_type": "stream",
     "text": [
      "Recuerda añadir siempre un contador de iteraciones "
     ]
    }
   ],
   "source": [
    "vuelta = 0\n",
    "palabras = [\"Recuerda\", \"añadir\", \"siempre\", \"un\", \"contador\", \"de\", \"iteraciones\"]\n",
    "\n",
    "while vuelta < len(palabras):\n",
    "    print(palabras[vuelta], end=\" \")\n",
    "    vuelta += 1"
   ]
  }
 ],
 "metadata": {
  "kernelspec": {
   "display_name": "Python 3 (ipykernel)",
   "language": "python",
   "name": "python3"
  },
  "language_info": {
   "codemirror_mode": {
    "name": "ipython",
    "version": 3
   },
   "file_extension": ".py",
   "mimetype": "text/x-python",
   "name": "python",
   "nbconvert_exporter": "python",
   "pygments_lexer": "ipython3",
   "version": "3.10.0"
  }
 },
 "nbformat": 4,
 "nbformat_minor": 5
}
